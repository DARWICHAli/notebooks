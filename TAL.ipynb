{
  "nbformat": 4,
  "nbformat_minor": 0,
  "metadata": {
    "colab": {
      "provenance": [],
      "mount_file_id": "1r7lQZDy9PziqwbCP3VT1h5hp-BbxTkz9",
      "authorship_tag": "ABX9TyPPizroQhwI6kDElvEkoAbe",
      "include_colab_link": true
    },
    "kernelspec": {
      "name": "python3",
      "display_name": "Python 3"
    },
    "language_info": {
      "name": "python"
    }
  },
  "cells": [
    {
      "cell_type": "markdown",
      "metadata": {
        "id": "view-in-github",
        "colab_type": "text"
      },
      "source": [
        "<a href=\"https://colab.research.google.com/github/DARWICHAli/notebooks/blob/main/TAL.ipynb\" target=\"_parent\"><img src=\"https://colab.research.google.com/assets/colab-badge.svg\" alt=\"Open In Colab\"/></a>"
      ]
    },
    {
      "cell_type": "markdown",
      "source": [
        "# Projet TAL"
      ],
      "metadata": {
        "id": "fg4Q2W6hl0Nz"
      }
    },
    {
      "cell_type": "code",
      "source": [
        "import warnings\n",
        "warnings.filterwarnings('ignore')\n",
        "import string\n",
        "import time\n",
        "import nltk\n",
        "from nltk.corpus import stopwords\n",
        "from nltk.tokenize import word_tokenize\n",
        "from sklearn import metrics\n",
        "from sklearn import model_selection\n",
        "from sklearn import set_config\n",
        "from sklearn.base import BaseEstimator, TransformerMixin\n",
        "from sklearn.dummy import DummyClassifier\n",
        "from sklearn.compose import ColumnTransformer\n",
        "from sklearn.ensemble import RandomForestClassifier\n",
        "from sklearn.feature_extraction import DictVectorizer\n",
        "from sklearn.feature_extraction.text import CountVectorizer, TfidfVectorizer\n",
        "from sklearn.linear_model import LogisticRegression\n",
        "from sklearn.metrics import classification_report, f1_score, accuracy_score, confusion_matrix\n",
        "from sklearn.model_selection import train_test_split\n",
        "from sklearn.multiclass import OneVsRestClassifier\n",
        "from sklearn.naive_bayes import MultinomialNB\n",
        "from sklearn.neighbors import KNeighborsClassifier\n",
        "from sklearn.preprocessing import FunctionTransformer, MinMaxScaler\n",
        "from sklearn.pipeline import Pipeline, FeatureUnion, make_pipeline\n",
        "from sklearn.tree import DecisionTreeClassifier\n",
        "import seaborn as sns\n",
        "import matplotlib.pyplot as plt\n",
        "import numpy as np\n",
        "import pandas as pd\n",
        "import spacy\n",
        "import nltk\n",
        "\n",
        "\n",
        "\n",
        "import numpy as np\n",
        "import pandas as pd\n",
        "from sklearn import model_selection\n",
        "import tensorflow as tf\n",
        "from tensorflow import keras\n",
        "from tensorflow.keras.layers import TextVectorization\n",
        "from tensorflow.keras.layers import Embedding\n",
        "from tensorflow.keras import layers\n",
        "import seaborn as sns\n",
        "sns.set_theme(style=\"darkgrid\")\n",
        "\n"
      ],
      "metadata": {
        "id": "B1LpEH_EgDg5"
      },
      "execution_count": null,
      "outputs": []
    },
    {
      "cell_type": "markdown",
      "source": [
        "## Parie 1\n",
        "\n",
        "Vous avez à votre disposition sur Moodle un fichier CSV (df_wikinews_pr_tok_sample.csv)\n",
        "d’articles publiés sur Wikinews étiquetés avec une catégorie. Le titre de l’article se trouve dans la\n",
        "colonne ‘title’, son contenu dans la colonne ‘text’ et sa catégorie dans la colonne ‘categ’.\n",
        "\n",
        "L’objectif est d’entraîner un outil de classification automatique des articles en fonction de leur\n",
        "catégorie. La classification doit se baser sur le texte et le titre des articles. Le texte et le titre des articles\n",
        "ont déjà été tokénisés et tous les tokens sont séparés par une espace.\n",
        "\n",
        "L’apprentissage se fera à l’aide des méthodes vues lors des travaux pratiques\n",
        "(2_TP_classification_documents et 3_TP_CNN). Vous êtes fortement encouragés à comparer différents\n",
        "algorithmes de classification et différents types de traits déduits du texte des articles (par exemple,\n",
        "utilisation de la désuffixation, application de différents seuils de fréquence pour les tokens à conserver\n",
        "dans le vocabulaire, utilisation de différentes méthodes de pondération, etc. : à vous de trouver et de\n",
        "tester des traits éventuellement pertinents). Les bonnes pratiques d’évaluation des modèles (validation\n",
        "croisée notamment) devront être respectées. L’analyse des résultats comportera obligatoirement une\n",
        "analyse qualitative (comment expliquer les problèmes observés ?) et pistes d’amélioration."
      ],
      "metadata": {
        "id": "fl9O66CXl5-p"
      }
    },
    {
      "cell_type": "markdown",
      "source": [
        "### Chargement des données"
      ],
      "metadata": {
        "id": "WKS-GrsWgMOE"
      }
    },
    {
      "cell_type": "code",
      "source": [
        "# Lecture du fichier CSV\n",
        "\n",
        "wiki_df = pd.read_csv(\"/content/drive/MyDrive/datasets/df_wikinews_pr_tok_sample.csv\",\n",
        "                      sep=\",\",\n",
        "                      dtype={'title': 'object',\n",
        "                            'text': 'object',\n",
        "                            'categ': 'category'})\n",
        "wiki_df = wiki_df.drop_duplicates().dropna(how = 'any')"
      ],
      "metadata": {
        "id": "i-J5nhhdmSuA"
      },
      "execution_count": null,
      "outputs": []
    },
    {
      "cell_type": "code",
      "source": [
        "wiki_df.info()"
      ],
      "metadata": {
        "colab": {
          "base_uri": "https://localhost:8080/"
        },
        "id": "WzBXWWD8MD6q",
        "outputId": "e1cebcad-dd93-48d8-a301-1330b3251c9a"
      },
      "execution_count": null,
      "outputs": [
        {
          "output_type": "stream",
          "name": "stdout",
          "text": [
            "<class 'pandas.core.frame.DataFrame'>\n",
            "Int64Index: 10000 entries, 0 to 9999\n",
            "Data columns (total 3 columns):\n",
            " #   Column  Non-Null Count  Dtype   \n",
            "---  ------  --------------  -----   \n",
            " 0   title   10000 non-null  object  \n",
            " 1   text    10000 non-null  object  \n",
            " 2   categ   10000 non-null  category\n",
            "dtypes: category(1), object(2)\n",
            "memory usage: 244.4+ KB\n"
          ]
        }
      ]
    },
    {
      "cell_type": "code",
      "source": [
        "wiki_df.categ.value_counts()"
      ],
      "metadata": {
        "colab": {
          "base_uri": "https://localhost:8080/"
        },
        "id": "qITgwNYCr1a4",
        "outputId": "a07e98d8-e5b3-46e5-ab3b-61cab8c8633d"
      },
      "execution_count": null,
      "outputs": [
        {
          "output_type": "execute_result",
          "data": {
            "text/plain": [
              "sports        4780\n",
              "polit         2406\n",
              "economie       987\n",
              "justice        725\n",
              "sci_cult       633\n",
              "enviro_cat     469\n",
              "Name: categ, dtype: int64"
            ]
          },
          "metadata": {},
          "execution_count": 5
        }
      ]
    },
    {
      "cell_type": "code",
      "source": [
        "wiki_df.head()"
      ],
      "metadata": {
        "colab": {
          "base_uri": "https://localhost:8080/",
          "height": 206
        },
        "id": "38UwKFN2sF8w",
        "outputId": "ef5d65a2-131f-4390-aecc-f872757c1e89"
      },
      "execution_count": null,
      "outputs": [
        {
          "output_type": "execute_result",
          "data": {
            "text/plain": [
              "                                               title  \\\n",
              "0  Tournoi des Quatre Nations 2017 : les résultat...   \n",
              "1  Pas de pardon pour Stanley Williams , le fonda...   \n",
              "2  France : les époux Mégret sont condamnés pour ...   \n",
              "3  Championnat de France de basket - ball de Pro ...   \n",
              "4  Coupe d' Europe de rugby 2017 - 2018 : les rés...   \n",
              "\n",
              "                                                text    categ  \n",
              "0  Rugby à XV Informations générales Internationa...   sports  \n",
              "1  13 décembre 2005 . – Stanley \" Tookie \" Willia...  justice  \n",
              "2  18 octobre 2006 . – Par un jugement rendu ce j...    polit  \n",
              "3  17 octobre 2011 . – Cette deuxième journée est...   sports  \n",
              "4  Rugby à XV Informations générales Internationa...   sports  "
            ],
            "text/html": [
              "\n",
              "  <div id=\"df-32b8a28d-b194-4000-a664-6275f7dc707e\">\n",
              "    <div class=\"colab-df-container\">\n",
              "      <div>\n",
              "<style scoped>\n",
              "    .dataframe tbody tr th:only-of-type {\n",
              "        vertical-align: middle;\n",
              "    }\n",
              "\n",
              "    .dataframe tbody tr th {\n",
              "        vertical-align: top;\n",
              "    }\n",
              "\n",
              "    .dataframe thead th {\n",
              "        text-align: right;\n",
              "    }\n",
              "</style>\n",
              "<table border=\"1\" class=\"dataframe\">\n",
              "  <thead>\n",
              "    <tr style=\"text-align: right;\">\n",
              "      <th></th>\n",
              "      <th>title</th>\n",
              "      <th>text</th>\n",
              "      <th>categ</th>\n",
              "    </tr>\n",
              "  </thead>\n",
              "  <tbody>\n",
              "    <tr>\n",
              "      <th>0</th>\n",
              "      <td>Tournoi des Quatre Nations 2017 : les résultat...</td>\n",
              "      <td>Rugby à XV Informations générales Internationa...</td>\n",
              "      <td>sports</td>\n",
              "    </tr>\n",
              "    <tr>\n",
              "      <th>1</th>\n",
              "      <td>Pas de pardon pour Stanley Williams , le fonda...</td>\n",
              "      <td>13 décembre 2005 . – Stanley \" Tookie \" Willia...</td>\n",
              "      <td>justice</td>\n",
              "    </tr>\n",
              "    <tr>\n",
              "      <th>2</th>\n",
              "      <td>France : les époux Mégret sont condamnés pour ...</td>\n",
              "      <td>18 octobre 2006 . – Par un jugement rendu ce j...</td>\n",
              "      <td>polit</td>\n",
              "    </tr>\n",
              "    <tr>\n",
              "      <th>3</th>\n",
              "      <td>Championnat de France de basket - ball de Pro ...</td>\n",
              "      <td>17 octobre 2011 . – Cette deuxième journée est...</td>\n",
              "      <td>sports</td>\n",
              "    </tr>\n",
              "    <tr>\n",
              "      <th>4</th>\n",
              "      <td>Coupe d' Europe de rugby 2017 - 2018 : les rés...</td>\n",
              "      <td>Rugby à XV Informations générales Internationa...</td>\n",
              "      <td>sports</td>\n",
              "    </tr>\n",
              "  </tbody>\n",
              "</table>\n",
              "</div>\n",
              "      <button class=\"colab-df-convert\" onclick=\"convertToInteractive('df-32b8a28d-b194-4000-a664-6275f7dc707e')\"\n",
              "              title=\"Convert this dataframe to an interactive table.\"\n",
              "              style=\"display:none;\">\n",
              "        \n",
              "  <svg xmlns=\"http://www.w3.org/2000/svg\" height=\"24px\"viewBox=\"0 0 24 24\"\n",
              "       width=\"24px\">\n",
              "    <path d=\"M0 0h24v24H0V0z\" fill=\"none\"/>\n",
              "    <path d=\"M18.56 5.44l.94 2.06.94-2.06 2.06-.94-2.06-.94-.94-2.06-.94 2.06-2.06.94zm-11 1L8.5 8.5l.94-2.06 2.06-.94-2.06-.94L8.5 2.5l-.94 2.06-2.06.94zm10 10l.94 2.06.94-2.06 2.06-.94-2.06-.94-.94-2.06-.94 2.06-2.06.94z\"/><path d=\"M17.41 7.96l-1.37-1.37c-.4-.4-.92-.59-1.43-.59-.52 0-1.04.2-1.43.59L10.3 9.45l-7.72 7.72c-.78.78-.78 2.05 0 2.83L4 21.41c.39.39.9.59 1.41.59.51 0 1.02-.2 1.41-.59l7.78-7.78 2.81-2.81c.8-.78.8-2.07 0-2.86zM5.41 20L4 18.59l7.72-7.72 1.47 1.35L5.41 20z\"/>\n",
              "  </svg>\n",
              "      </button>\n",
              "      \n",
              "  <style>\n",
              "    .colab-df-container {\n",
              "      display:flex;\n",
              "      flex-wrap:wrap;\n",
              "      gap: 12px;\n",
              "    }\n",
              "\n",
              "    .colab-df-convert {\n",
              "      background-color: #E8F0FE;\n",
              "      border: none;\n",
              "      border-radius: 50%;\n",
              "      cursor: pointer;\n",
              "      display: none;\n",
              "      fill: #1967D2;\n",
              "      height: 32px;\n",
              "      padding: 0 0 0 0;\n",
              "      width: 32px;\n",
              "    }\n",
              "\n",
              "    .colab-df-convert:hover {\n",
              "      background-color: #E2EBFA;\n",
              "      box-shadow: 0px 1px 2px rgba(60, 64, 67, 0.3), 0px 1px 3px 1px rgba(60, 64, 67, 0.15);\n",
              "      fill: #174EA6;\n",
              "    }\n",
              "\n",
              "    [theme=dark] .colab-df-convert {\n",
              "      background-color: #3B4455;\n",
              "      fill: #D2E3FC;\n",
              "    }\n",
              "\n",
              "    [theme=dark] .colab-df-convert:hover {\n",
              "      background-color: #434B5C;\n",
              "      box-shadow: 0px 1px 3px 1px rgba(0, 0, 0, 0.15);\n",
              "      filter: drop-shadow(0px 1px 2px rgba(0, 0, 0, 0.3));\n",
              "      fill: #FFFFFF;\n",
              "    }\n",
              "  </style>\n",
              "\n",
              "      <script>\n",
              "        const buttonEl =\n",
              "          document.querySelector('#df-32b8a28d-b194-4000-a664-6275f7dc707e button.colab-df-convert');\n",
              "        buttonEl.style.display =\n",
              "          google.colab.kernel.accessAllowed ? 'block' : 'none';\n",
              "\n",
              "        async function convertToInteractive(key) {\n",
              "          const element = document.querySelector('#df-32b8a28d-b194-4000-a664-6275f7dc707e');\n",
              "          const dataTable =\n",
              "            await google.colab.kernel.invokeFunction('convertToInteractive',\n",
              "                                                     [key], {});\n",
              "          if (!dataTable) return;\n",
              "\n",
              "          const docLinkHtml = 'Like what you see? Visit the ' +\n",
              "            '<a target=\"_blank\" href=https://colab.research.google.com/notebooks/data_table.ipynb>data table notebook</a>'\n",
              "            + ' to learn more about interactive tables.';\n",
              "          element.innerHTML = '';\n",
              "          dataTable['output_type'] = 'display_data';\n",
              "          await google.colab.output.renderOutput(dataTable, element);\n",
              "          const docLink = document.createElement('div');\n",
              "          docLink.innerHTML = docLinkHtml;\n",
              "          element.appendChild(docLink);\n",
              "        }\n",
              "      </script>\n",
              "    </div>\n",
              "  </div>\n",
              "  "
            ]
          },
          "metadata": {},
          "execution_count": 6
        }
      ]
    },
    {
      "cell_type": "code",
      "source": [
        "X = wiki_df[['title', 'text']]\n",
        "y = wiki_df.categ"
      ],
      "metadata": {
        "id": "mEst_5OJsFEV"
      },
      "execution_count": null,
      "outputs": []
    },
    {
      "cell_type": "code",
      "source": [
        "X_train, X_test, y_train, y_test = train_test_split(X, y, test_size=0.2,\n",
        "                                                    random_state=12, shuffle=True)"
      ],
      "metadata": {
        "id": "ufIND7mvrtrC"
      },
      "execution_count": null,
      "outputs": []
    },
    {
      "cell_type": "code",
      "source": [
        "X_train.head()"
      ],
      "metadata": {
        "colab": {
          "base_uri": "https://localhost:8080/",
          "height": 206
        },
        "id": "L7VkBzbbsTaq",
        "outputId": "e33573dd-ec50-4ef4-b6b5-657341824918"
      },
      "execution_count": null,
      "outputs": [
        {
          "output_type": "execute_result",
          "data": {
            "text/plain": [
              "                                                  title  \\\n",
              "5951  Championnat d' Angleterre du Premiership de ru...   \n",
              "6630  Iditarod 2015 : décès de l' un des chiens de L...   \n",
              "3240  Championnat de France 2014 - 2015 de Ligue 1 :...   \n",
              "5942  Gabon : violences postélectorales à Port - Gentil   \n",
              "3789  UVP : appel à une Constituante , c' est aux Va...   \n",
              "\n",
              "                                                   text  \n",
              "5951  Rugby à XV Informations générales Internationa...  \n",
              "6630  Lance Mackey à la fin de l' Iditarod 2010 \\n 1...  \n",
              "3240  Sommaire 1 Quelques chiffres \\n 2 Résultats et...  \n",
              "5942  Localisation du Gabon Port - Gentil \\n 6 septe...  \n",
              "3789  Fichier : Union - Valdotaine - Progressiste Lo...  "
            ],
            "text/html": [
              "\n",
              "  <div id=\"df-5aa2e59d-8360-4a93-94bb-6486d05308f2\">\n",
              "    <div class=\"colab-df-container\">\n",
              "      <div>\n",
              "<style scoped>\n",
              "    .dataframe tbody tr th:only-of-type {\n",
              "        vertical-align: middle;\n",
              "    }\n",
              "\n",
              "    .dataframe tbody tr th {\n",
              "        vertical-align: top;\n",
              "    }\n",
              "\n",
              "    .dataframe thead th {\n",
              "        text-align: right;\n",
              "    }\n",
              "</style>\n",
              "<table border=\"1\" class=\"dataframe\">\n",
              "  <thead>\n",
              "    <tr style=\"text-align: right;\">\n",
              "      <th></th>\n",
              "      <th>title</th>\n",
              "      <th>text</th>\n",
              "    </tr>\n",
              "  </thead>\n",
              "  <tbody>\n",
              "    <tr>\n",
              "      <th>5951</th>\n",
              "      <td>Championnat d' Angleterre du Premiership de ru...</td>\n",
              "      <td>Rugby à XV Informations générales Internationa...</td>\n",
              "    </tr>\n",
              "    <tr>\n",
              "      <th>6630</th>\n",
              "      <td>Iditarod 2015 : décès de l' un des chiens de L...</td>\n",
              "      <td>Lance Mackey à la fin de l' Iditarod 2010 \\n 1...</td>\n",
              "    </tr>\n",
              "    <tr>\n",
              "      <th>3240</th>\n",
              "      <td>Championnat de France 2014 - 2015 de Ligue 1 :...</td>\n",
              "      <td>Sommaire 1 Quelques chiffres \\n 2 Résultats et...</td>\n",
              "    </tr>\n",
              "    <tr>\n",
              "      <th>5942</th>\n",
              "      <td>Gabon : violences postélectorales à Port - Gentil</td>\n",
              "      <td>Localisation du Gabon Port - Gentil \\n 6 septe...</td>\n",
              "    </tr>\n",
              "    <tr>\n",
              "      <th>3789</th>\n",
              "      <td>UVP : appel à une Constituante , c' est aux Va...</td>\n",
              "      <td>Fichier : Union - Valdotaine - Progressiste Lo...</td>\n",
              "    </tr>\n",
              "  </tbody>\n",
              "</table>\n",
              "</div>\n",
              "      <button class=\"colab-df-convert\" onclick=\"convertToInteractive('df-5aa2e59d-8360-4a93-94bb-6486d05308f2')\"\n",
              "              title=\"Convert this dataframe to an interactive table.\"\n",
              "              style=\"display:none;\">\n",
              "        \n",
              "  <svg xmlns=\"http://www.w3.org/2000/svg\" height=\"24px\"viewBox=\"0 0 24 24\"\n",
              "       width=\"24px\">\n",
              "    <path d=\"M0 0h24v24H0V0z\" fill=\"none\"/>\n",
              "    <path d=\"M18.56 5.44l.94 2.06.94-2.06 2.06-.94-2.06-.94-.94-2.06-.94 2.06-2.06.94zm-11 1L8.5 8.5l.94-2.06 2.06-.94-2.06-.94L8.5 2.5l-.94 2.06-2.06.94zm10 10l.94 2.06.94-2.06 2.06-.94-2.06-.94-.94-2.06-.94 2.06-2.06.94z\"/><path d=\"M17.41 7.96l-1.37-1.37c-.4-.4-.92-.59-1.43-.59-.52 0-1.04.2-1.43.59L10.3 9.45l-7.72 7.72c-.78.78-.78 2.05 0 2.83L4 21.41c.39.39.9.59 1.41.59.51 0 1.02-.2 1.41-.59l7.78-7.78 2.81-2.81c.8-.78.8-2.07 0-2.86zM5.41 20L4 18.59l7.72-7.72 1.47 1.35L5.41 20z\"/>\n",
              "  </svg>\n",
              "      </button>\n",
              "      \n",
              "  <style>\n",
              "    .colab-df-container {\n",
              "      display:flex;\n",
              "      flex-wrap:wrap;\n",
              "      gap: 12px;\n",
              "    }\n",
              "\n",
              "    .colab-df-convert {\n",
              "      background-color: #E8F0FE;\n",
              "      border: none;\n",
              "      border-radius: 50%;\n",
              "      cursor: pointer;\n",
              "      display: none;\n",
              "      fill: #1967D2;\n",
              "      height: 32px;\n",
              "      padding: 0 0 0 0;\n",
              "      width: 32px;\n",
              "    }\n",
              "\n",
              "    .colab-df-convert:hover {\n",
              "      background-color: #E2EBFA;\n",
              "      box-shadow: 0px 1px 2px rgba(60, 64, 67, 0.3), 0px 1px 3px 1px rgba(60, 64, 67, 0.15);\n",
              "      fill: #174EA6;\n",
              "    }\n",
              "\n",
              "    [theme=dark] .colab-df-convert {\n",
              "      background-color: #3B4455;\n",
              "      fill: #D2E3FC;\n",
              "    }\n",
              "\n",
              "    [theme=dark] .colab-df-convert:hover {\n",
              "      background-color: #434B5C;\n",
              "      box-shadow: 0px 1px 3px 1px rgba(0, 0, 0, 0.15);\n",
              "      filter: drop-shadow(0px 1px 2px rgba(0, 0, 0, 0.3));\n",
              "      fill: #FFFFFF;\n",
              "    }\n",
              "  </style>\n",
              "\n",
              "      <script>\n",
              "        const buttonEl =\n",
              "          document.querySelector('#df-5aa2e59d-8360-4a93-94bb-6486d05308f2 button.colab-df-convert');\n",
              "        buttonEl.style.display =\n",
              "          google.colab.kernel.accessAllowed ? 'block' : 'none';\n",
              "\n",
              "        async function convertToInteractive(key) {\n",
              "          const element = document.querySelector('#df-5aa2e59d-8360-4a93-94bb-6486d05308f2');\n",
              "          const dataTable =\n",
              "            await google.colab.kernel.invokeFunction('convertToInteractive',\n",
              "                                                     [key], {});\n",
              "          if (!dataTable) return;\n",
              "\n",
              "          const docLinkHtml = 'Like what you see? Visit the ' +\n",
              "            '<a target=\"_blank\" href=https://colab.research.google.com/notebooks/data_table.ipynb>data table notebook</a>'\n",
              "            + ' to learn more about interactive tables.';\n",
              "          element.innerHTML = '';\n",
              "          dataTable['output_type'] = 'display_data';\n",
              "          await google.colab.output.renderOutput(dataTable, element);\n",
              "          const docLink = document.createElement('div');\n",
              "          docLink.innerHTML = docLinkHtml;\n",
              "          element.appendChild(docLink);\n",
              "        }\n",
              "      </script>\n",
              "    </div>\n",
              "  </div>\n",
              "  "
            ]
          },
          "metadata": {},
          "execution_count": 9
        }
      ]
    },
    {
      "cell_type": "code",
      "source": [
        "y_train.head()"
      ],
      "metadata": {
        "colab": {
          "base_uri": "https://localhost:8080/"
        },
        "id": "dFVQFW_UM1s8",
        "outputId": "aaed86b9-bdea-4338-afbf-af4590842040"
      },
      "execution_count": null,
      "outputs": [
        {
          "output_type": "execute_result",
          "data": {
            "text/plain": [
              "5951    sports\n",
              "6630    sports\n",
              "3240    sports\n",
              "5942     polit\n",
              "3789     polit\n",
              "Name: categ, dtype: category\n",
              "Categories (6, object): ['economie', 'enviro_cat', 'justice', 'polit', 'sci_cult', 'sports']"
            ]
          },
          "metadata": {},
          "execution_count": 10
        }
      ]
    },
    {
      "cell_type": "code",
      "source": [
        "y_train.value_counts()"
      ],
      "metadata": {
        "colab": {
          "base_uri": "https://localhost:8080/"
        },
        "id": "S8DxzsB0sVQg",
        "outputId": "ea85ea5f-d8ef-46bc-d4db-6dda09a6bf7b"
      },
      "execution_count": null,
      "outputs": [
        {
          "output_type": "execute_result",
          "data": {
            "text/plain": [
              "sports        3823\n",
              "polit         1915\n",
              "economie       788\n",
              "justice        591\n",
              "sci_cult       505\n",
              "enviro_cat     378\n",
              "Name: categ, dtype: int64"
            ]
          },
          "metadata": {},
          "execution_count": 10
        }
      ]
    },
    {
      "cell_type": "markdown",
      "source": [
        "### Création de piplines"
      ],
      "metadata": {
        "id": "QiYvz2ELM9UR"
      }
    },
    {
      "cell_type": "code",
      "source": [
        "# Fonction de tokénisation\n",
        "def tokenize_variety(text):\n",
        "    return text.split(' ')\n",
        "\n",
        "# Objet CountVectorizer pour la transformation en sac de mots\n",
        "var_vectorizer = CountVectorizer(tokenizer=tokenize_variety,\n",
        "                                 min_df=0.01)"
      ],
      "metadata": {
        "id": "RJNM5fgANZNG"
      },
      "execution_count": null,
      "outputs": []
    },
    {
      "cell_type": "code",
      "source": [
        "res_var = var_vectorizer.fit_transform(X_test.title.head())\n",
        "print(\"Input varieties\")\n",
        "print(X_test.title.head())\n",
        "print()\n",
        "print(\"Output bag of words\")\n",
        "var_bow = pd.DataFrame(res_var.toarray(), columns=var_vectorizer.get_feature_names())\n",
        "var_bow.replace(0, np.nan).dropna(axis=1, how='all').fillna(0)\n",
        "var_bow"
      ],
      "metadata": {
        "colab": {
          "base_uri": "https://localhost:8080/",
          "height": 392
        },
        "id": "k1JEDsJ_NsqQ",
        "outputId": "f74a2e73-9254-4579-87e9-124e64186ac0"
      },
      "execution_count": null,
      "outputs": [
        {
          "output_type": "stream",
          "name": "stdout",
          "text": [
            "Input varieties\n",
            "5669    La Chine a lancé avec succès la sonde Chang' e...\n",
            "8800    Astronomie : l' existence d' une planète Proxi...\n",
            "3205    Championnat de France 2010 - 2011 de Ligue 2 :...\n",
            "8731    Ligue de hockey midget AAA : résultats du vend...\n",
            "6412    Football : Grégory Coupet sera absent au minim...\n",
            "Name: title, dtype: object\n",
            "\n",
            "Output bag of words\n"
          ]
        },
        {
          "output_type": "execute_result",
          "data": {
            "text/plain": [
              "   -  1  16  2  2010  2011  :  a  aaa  absent  ...  proxima  résultats  sera  \\\n",
              "0  0  1   0  0     0     0  0  1    0       0  ...        0          0     0   \n",
              "1  0  0   0  0     0     0  1  0    0       0  ...        1          0     0   \n",
              "2  1  0   0  1     1     1  1  0    0       0  ...        0          1     0   \n",
              "3  0  0   1  0     0     0  1  0    1       0  ...        0          1     0   \n",
              "4  0  0   0  0     0     0  1  0    0       1  ...        0          0     1   \n",
              "\n",
              "   sonde  succès  trentième  trois  une  vendredi  vers  \n",
              "0      1       1          0      0    0         0     1  \n",
              "1      0       0          0      0    1         0     0  \n",
              "2      0       0          1      0    0         0     0  \n",
              "3      0       0          0      0    0         1     0  \n",
              "4      0       0          0      1    0         0     0  \n",
              "\n",
              "[5 rows x 53 columns]"
            ],
            "text/html": [
              "\n",
              "  <div id=\"df-1ad0e8bd-9071-41d7-acb5-8753c36ecdea\">\n",
              "    <div class=\"colab-df-container\">\n",
              "      <div>\n",
              "<style scoped>\n",
              "    .dataframe tbody tr th:only-of-type {\n",
              "        vertical-align: middle;\n",
              "    }\n",
              "\n",
              "    .dataframe tbody tr th {\n",
              "        vertical-align: top;\n",
              "    }\n",
              "\n",
              "    .dataframe thead th {\n",
              "        text-align: right;\n",
              "    }\n",
              "</style>\n",
              "<table border=\"1\" class=\"dataframe\">\n",
              "  <thead>\n",
              "    <tr style=\"text-align: right;\">\n",
              "      <th></th>\n",
              "      <th>-</th>\n",
              "      <th>1</th>\n",
              "      <th>16</th>\n",
              "      <th>2</th>\n",
              "      <th>2010</th>\n",
              "      <th>2011</th>\n",
              "      <th>:</th>\n",
              "      <th>a</th>\n",
              "      <th>aaa</th>\n",
              "      <th>absent</th>\n",
              "      <th>...</th>\n",
              "      <th>proxima</th>\n",
              "      <th>résultats</th>\n",
              "      <th>sera</th>\n",
              "      <th>sonde</th>\n",
              "      <th>succès</th>\n",
              "      <th>trentième</th>\n",
              "      <th>trois</th>\n",
              "      <th>une</th>\n",
              "      <th>vendredi</th>\n",
              "      <th>vers</th>\n",
              "    </tr>\n",
              "  </thead>\n",
              "  <tbody>\n",
              "    <tr>\n",
              "      <th>0</th>\n",
              "      <td>0</td>\n",
              "      <td>1</td>\n",
              "      <td>0</td>\n",
              "      <td>0</td>\n",
              "      <td>0</td>\n",
              "      <td>0</td>\n",
              "      <td>0</td>\n",
              "      <td>1</td>\n",
              "      <td>0</td>\n",
              "      <td>0</td>\n",
              "      <td>...</td>\n",
              "      <td>0</td>\n",
              "      <td>0</td>\n",
              "      <td>0</td>\n",
              "      <td>1</td>\n",
              "      <td>1</td>\n",
              "      <td>0</td>\n",
              "      <td>0</td>\n",
              "      <td>0</td>\n",
              "      <td>0</td>\n",
              "      <td>1</td>\n",
              "    </tr>\n",
              "    <tr>\n",
              "      <th>1</th>\n",
              "      <td>0</td>\n",
              "      <td>0</td>\n",
              "      <td>0</td>\n",
              "      <td>0</td>\n",
              "      <td>0</td>\n",
              "      <td>0</td>\n",
              "      <td>1</td>\n",
              "      <td>0</td>\n",
              "      <td>0</td>\n",
              "      <td>0</td>\n",
              "      <td>...</td>\n",
              "      <td>1</td>\n",
              "      <td>0</td>\n",
              "      <td>0</td>\n",
              "      <td>0</td>\n",
              "      <td>0</td>\n",
              "      <td>0</td>\n",
              "      <td>0</td>\n",
              "      <td>1</td>\n",
              "      <td>0</td>\n",
              "      <td>0</td>\n",
              "    </tr>\n",
              "    <tr>\n",
              "      <th>2</th>\n",
              "      <td>1</td>\n",
              "      <td>0</td>\n",
              "      <td>0</td>\n",
              "      <td>1</td>\n",
              "      <td>1</td>\n",
              "      <td>1</td>\n",
              "      <td>1</td>\n",
              "      <td>0</td>\n",
              "      <td>0</td>\n",
              "      <td>0</td>\n",
              "      <td>...</td>\n",
              "      <td>0</td>\n",
              "      <td>1</td>\n",
              "      <td>0</td>\n",
              "      <td>0</td>\n",
              "      <td>0</td>\n",
              "      <td>1</td>\n",
              "      <td>0</td>\n",
              "      <td>0</td>\n",
              "      <td>0</td>\n",
              "      <td>0</td>\n",
              "    </tr>\n",
              "    <tr>\n",
              "      <th>3</th>\n",
              "      <td>0</td>\n",
              "      <td>0</td>\n",
              "      <td>1</td>\n",
              "      <td>0</td>\n",
              "      <td>0</td>\n",
              "      <td>0</td>\n",
              "      <td>1</td>\n",
              "      <td>0</td>\n",
              "      <td>1</td>\n",
              "      <td>0</td>\n",
              "      <td>...</td>\n",
              "      <td>0</td>\n",
              "      <td>1</td>\n",
              "      <td>0</td>\n",
              "      <td>0</td>\n",
              "      <td>0</td>\n",
              "      <td>0</td>\n",
              "      <td>0</td>\n",
              "      <td>0</td>\n",
              "      <td>1</td>\n",
              "      <td>0</td>\n",
              "    </tr>\n",
              "    <tr>\n",
              "      <th>4</th>\n",
              "      <td>0</td>\n",
              "      <td>0</td>\n",
              "      <td>0</td>\n",
              "      <td>0</td>\n",
              "      <td>0</td>\n",
              "      <td>0</td>\n",
              "      <td>1</td>\n",
              "      <td>0</td>\n",
              "      <td>0</td>\n",
              "      <td>1</td>\n",
              "      <td>...</td>\n",
              "      <td>0</td>\n",
              "      <td>0</td>\n",
              "      <td>1</td>\n",
              "      <td>0</td>\n",
              "      <td>0</td>\n",
              "      <td>0</td>\n",
              "      <td>1</td>\n",
              "      <td>0</td>\n",
              "      <td>0</td>\n",
              "      <td>0</td>\n",
              "    </tr>\n",
              "  </tbody>\n",
              "</table>\n",
              "<p>5 rows × 53 columns</p>\n",
              "</div>\n",
              "      <button class=\"colab-df-convert\" onclick=\"convertToInteractive('df-1ad0e8bd-9071-41d7-acb5-8753c36ecdea')\"\n",
              "              title=\"Convert this dataframe to an interactive table.\"\n",
              "              style=\"display:none;\">\n",
              "        \n",
              "  <svg xmlns=\"http://www.w3.org/2000/svg\" height=\"24px\"viewBox=\"0 0 24 24\"\n",
              "       width=\"24px\">\n",
              "    <path d=\"M0 0h24v24H0V0z\" fill=\"none\"/>\n",
              "    <path d=\"M18.56 5.44l.94 2.06.94-2.06 2.06-.94-2.06-.94-.94-2.06-.94 2.06-2.06.94zm-11 1L8.5 8.5l.94-2.06 2.06-.94-2.06-.94L8.5 2.5l-.94 2.06-2.06.94zm10 10l.94 2.06.94-2.06 2.06-.94-2.06-.94-.94-2.06-.94 2.06-2.06.94z\"/><path d=\"M17.41 7.96l-1.37-1.37c-.4-.4-.92-.59-1.43-.59-.52 0-1.04.2-1.43.59L10.3 9.45l-7.72 7.72c-.78.78-.78 2.05 0 2.83L4 21.41c.39.39.9.59 1.41.59.51 0 1.02-.2 1.41-.59l7.78-7.78 2.81-2.81c.8-.78.8-2.07 0-2.86zM5.41 20L4 18.59l7.72-7.72 1.47 1.35L5.41 20z\"/>\n",
              "  </svg>\n",
              "      </button>\n",
              "      \n",
              "  <style>\n",
              "    .colab-df-container {\n",
              "      display:flex;\n",
              "      flex-wrap:wrap;\n",
              "      gap: 12px;\n",
              "    }\n",
              "\n",
              "    .colab-df-convert {\n",
              "      background-color: #E8F0FE;\n",
              "      border: none;\n",
              "      border-radius: 50%;\n",
              "      cursor: pointer;\n",
              "      display: none;\n",
              "      fill: #1967D2;\n",
              "      height: 32px;\n",
              "      padding: 0 0 0 0;\n",
              "      width: 32px;\n",
              "    }\n",
              "\n",
              "    .colab-df-convert:hover {\n",
              "      background-color: #E2EBFA;\n",
              "      box-shadow: 0px 1px 2px rgba(60, 64, 67, 0.3), 0px 1px 3px 1px rgba(60, 64, 67, 0.15);\n",
              "      fill: #174EA6;\n",
              "    }\n",
              "\n",
              "    [theme=dark] .colab-df-convert {\n",
              "      background-color: #3B4455;\n",
              "      fill: #D2E3FC;\n",
              "    }\n",
              "\n",
              "    [theme=dark] .colab-df-convert:hover {\n",
              "      background-color: #434B5C;\n",
              "      box-shadow: 0px 1px 3px 1px rgba(0, 0, 0, 0.15);\n",
              "      filter: drop-shadow(0px 1px 2px rgba(0, 0, 0, 0.3));\n",
              "      fill: #FFFFFF;\n",
              "    }\n",
              "  </style>\n",
              "\n",
              "      <script>\n",
              "        const buttonEl =\n",
              "          document.querySelector('#df-1ad0e8bd-9071-41d7-acb5-8753c36ecdea button.colab-df-convert');\n",
              "        buttonEl.style.display =\n",
              "          google.colab.kernel.accessAllowed ? 'block' : 'none';\n",
              "\n",
              "        async function convertToInteractive(key) {\n",
              "          const element = document.querySelector('#df-1ad0e8bd-9071-41d7-acb5-8753c36ecdea');\n",
              "          const dataTable =\n",
              "            await google.colab.kernel.invokeFunction('convertToInteractive',\n",
              "                                                     [key], {});\n",
              "          if (!dataTable) return;\n",
              "\n",
              "          const docLinkHtml = 'Like what you see? Visit the ' +\n",
              "            '<a target=\"_blank\" href=https://colab.research.google.com/notebooks/data_table.ipynb>data table notebook</a>'\n",
              "            + ' to learn more about interactive tables.';\n",
              "          element.innerHTML = '';\n",
              "          dataTable['output_type'] = 'display_data';\n",
              "          await google.colab.output.renderOutput(dataTable, element);\n",
              "          const docLink = document.createElement('div');\n",
              "          docLink.innerHTML = docLinkHtml;\n",
              "          element.appendChild(docLink);\n",
              "        }\n",
              "      </script>\n",
              "    </div>\n",
              "  </div>\n",
              "  "
            ]
          },
          "metadata": {},
          "execution_count": 17
        }
      ]
    },
    {
      "cell_type": "code",
      "source": [
        "import nltk\n",
        "nltk.download('stopwords')\n",
        "nltk.download('punkt')"
      ],
      "metadata": {
        "colab": {
          "base_uri": "https://localhost:8080/"
        },
        "id": "Q1t7tWmsOLLJ",
        "outputId": "505485ed-f9d6-4693-8406-14501de3ffce"
      },
      "execution_count": null,
      "outputs": [
        {
          "output_type": "stream",
          "name": "stdout",
          "text": [
            "[nltk_data] Downloading package stopwords to /root/nltk_data...\n",
            "[nltk_data]   Unzipping corpora/stopwords.zip.\n",
            "[nltk_data] Downloading package punkt to /root/nltk_data...\n",
            "[nltk_data]   Unzipping tokenizers/punkt.zip.\n"
          ]
        },
        {
          "output_type": "execute_result",
          "data": {
            "text/plain": [
              "True"
            ]
          },
          "metadata": {},
          "execution_count": 18
        }
      ]
    },
    {
      "cell_type": "code",
      "source": [
        "def split_into_tokens_nltk(desc) :\n",
        "    return word_tokenize(desc)\n",
        "\n",
        "# Liste des mots vides de NLTK + signes de ponctuation\n",
        "nltk_stopwords = stopwords.words('french')+list(string.punctuation)\n",
        "\n",
        "# Objet TfidfVectorizer\n",
        "desc_vectorizer = TfidfVectorizer(tokenizer=split_into_tokens_nltk,\n",
        "                                  lowercase=True,\n",
        "                                  stop_words=nltk_stopwords,\n",
        "                                  min_df=0.01)"
      ],
      "metadata": {
        "id": "EkWk3kk3ONBm"
      },
      "execution_count": null,
      "outputs": []
    },
    {
      "cell_type": "code",
      "source": [
        "res_desc = desc_vectorizer.fit_transform(X_test.text.head())\n",
        "print(\"Input text\")\n",
        "print(X_test.text.head())\n",
        "print()\n",
        "print(\"Output bag of words\")\n",
        "desc_bow = pd.DataFrame(res_desc.toarray(), columns=desc_vectorizer.get_feature_names())\n",
        "desc_bow.replace(0, np.nan).dropna(axis=1, how='all').fillna(0)\n",
        "desc_bow"
      ],
      "metadata": {
        "colab": {
          "base_uri": "https://localhost:8080/",
          "height": 453
        },
        "id": "0tH5dTKZOQ9I",
        "outputId": "77b3e055-b789-44dc-cd97-7999728991e6"
      },
      "execution_count": null,
      "outputs": [
        {
          "output_type": "stream",
          "name": "stdout",
          "text": [
            "Input text\n",
            "5669    La sonde Chang' e 1 modélisée . Source   : NAS...\n",
            "8800    Orbite de Proxima Centauri c à l' intérieur du...\n",
            "3205    Sommaire 1 Quelques chiffres \\n 2 Résultats et...\n",
            "8731    18 octobre 2009 . – Ce vendredi , 6 matchs de ...\n",
            "6412    29 novembre 2009 . – Le gardien de but du Pari...\n",
            "Name: text, dtype: object\n",
            "\n",
            "Output bag of words\n"
          ]
        },
        {
          "output_type": "execute_result",
          "data": {
            "text/plain": [
              "         -1       -17        -2       -20        -5        -6       -il  \\\n",
              "0  0.000000  0.000000  0.000000  0.000000  0.000000  0.000000  0.000000   \n",
              "1  0.000000  0.000000  0.000000  0.000000  0.000000  0.000000  0.057799   \n",
              "2  0.014722  0.029445  0.073611  0.014722  0.014722  0.014722  0.000000   \n",
              "3  0.000000  0.000000  0.000000  0.000000  0.000000  0.000000  0.000000   \n",
              "4  0.000000  0.000000  0.000000  0.000000  0.000000  0.000000  0.000000   \n",
              "\n",
              "         -t  //fr.wikinews.org/w/index.php         0  ...  éditable    élites  \\\n",
              "0  0.000000                       0.020974  0.000000  ...  0.024797  0.000000   \n",
              "1  0.057799                       0.027542  0.000000  ...  0.000000  0.000000   \n",
              "2  0.000000                       0.007015  0.721392  ...  0.008294  0.000000   \n",
              "3  0.000000                       0.036980  0.000000  ...  0.043722  0.077606   \n",
              "4  0.000000                       0.036507  0.000000  ...  0.043162  0.000000   \n",
              "\n",
              "     équipe    étoile    évacué     évian    éviter  événement     éxito  \\\n",
              "0  0.000000  0.000000  0.000000  0.000000  0.000000   0.044015  0.044015   \n",
              "1  0.000000  0.057799  0.000000  0.000000  0.000000   0.000000  0.000000   \n",
              "2  0.000000  0.000000  0.000000  0.058889  0.000000   0.000000  0.000000   \n",
              "3  0.155212  0.000000  0.000000  0.000000  0.000000   0.000000  0.000000   \n",
              "4  0.000000  0.000000  0.076613  0.000000  0.076613   0.000000  0.000000   \n",
              "\n",
              "          –  \n",
              "0  0.104868  \n",
              "1  0.082625  \n",
              "2  0.014031  \n",
              "3  0.073959  \n",
              "4  0.109520  \n",
              "\n",
              "[5 rows x 533 columns]"
            ],
            "text/html": [
              "\n",
              "  <div id=\"df-bf819f8d-b789-4fe6-8a8a-99b023bbb2bc\">\n",
              "    <div class=\"colab-df-container\">\n",
              "      <div>\n",
              "<style scoped>\n",
              "    .dataframe tbody tr th:only-of-type {\n",
              "        vertical-align: middle;\n",
              "    }\n",
              "\n",
              "    .dataframe tbody tr th {\n",
              "        vertical-align: top;\n",
              "    }\n",
              "\n",
              "    .dataframe thead th {\n",
              "        text-align: right;\n",
              "    }\n",
              "</style>\n",
              "<table border=\"1\" class=\"dataframe\">\n",
              "  <thead>\n",
              "    <tr style=\"text-align: right;\">\n",
              "      <th></th>\n",
              "      <th>-1</th>\n",
              "      <th>-17</th>\n",
              "      <th>-2</th>\n",
              "      <th>-20</th>\n",
              "      <th>-5</th>\n",
              "      <th>-6</th>\n",
              "      <th>-il</th>\n",
              "      <th>-t</th>\n",
              "      <th>//fr.wikinews.org/w/index.php</th>\n",
              "      <th>0</th>\n",
              "      <th>...</th>\n",
              "      <th>éditable</th>\n",
              "      <th>élites</th>\n",
              "      <th>équipe</th>\n",
              "      <th>étoile</th>\n",
              "      <th>évacué</th>\n",
              "      <th>évian</th>\n",
              "      <th>éviter</th>\n",
              "      <th>événement</th>\n",
              "      <th>éxito</th>\n",
              "      <th>–</th>\n",
              "    </tr>\n",
              "  </thead>\n",
              "  <tbody>\n",
              "    <tr>\n",
              "      <th>0</th>\n",
              "      <td>0.000000</td>\n",
              "      <td>0.000000</td>\n",
              "      <td>0.000000</td>\n",
              "      <td>0.000000</td>\n",
              "      <td>0.000000</td>\n",
              "      <td>0.000000</td>\n",
              "      <td>0.000000</td>\n",
              "      <td>0.000000</td>\n",
              "      <td>0.020974</td>\n",
              "      <td>0.000000</td>\n",
              "      <td>...</td>\n",
              "      <td>0.024797</td>\n",
              "      <td>0.000000</td>\n",
              "      <td>0.000000</td>\n",
              "      <td>0.000000</td>\n",
              "      <td>0.000000</td>\n",
              "      <td>0.000000</td>\n",
              "      <td>0.000000</td>\n",
              "      <td>0.044015</td>\n",
              "      <td>0.044015</td>\n",
              "      <td>0.104868</td>\n",
              "    </tr>\n",
              "    <tr>\n",
              "      <th>1</th>\n",
              "      <td>0.000000</td>\n",
              "      <td>0.000000</td>\n",
              "      <td>0.000000</td>\n",
              "      <td>0.000000</td>\n",
              "      <td>0.000000</td>\n",
              "      <td>0.000000</td>\n",
              "      <td>0.057799</td>\n",
              "      <td>0.057799</td>\n",
              "      <td>0.027542</td>\n",
              "      <td>0.000000</td>\n",
              "      <td>...</td>\n",
              "      <td>0.000000</td>\n",
              "      <td>0.000000</td>\n",
              "      <td>0.000000</td>\n",
              "      <td>0.057799</td>\n",
              "      <td>0.000000</td>\n",
              "      <td>0.000000</td>\n",
              "      <td>0.000000</td>\n",
              "      <td>0.000000</td>\n",
              "      <td>0.000000</td>\n",
              "      <td>0.082625</td>\n",
              "    </tr>\n",
              "    <tr>\n",
              "      <th>2</th>\n",
              "      <td>0.014722</td>\n",
              "      <td>0.029445</td>\n",
              "      <td>0.073611</td>\n",
              "      <td>0.014722</td>\n",
              "      <td>0.014722</td>\n",
              "      <td>0.014722</td>\n",
              "      <td>0.000000</td>\n",
              "      <td>0.000000</td>\n",
              "      <td>0.007015</td>\n",
              "      <td>0.721392</td>\n",
              "      <td>...</td>\n",
              "      <td>0.008294</td>\n",
              "      <td>0.000000</td>\n",
              "      <td>0.000000</td>\n",
              "      <td>0.000000</td>\n",
              "      <td>0.000000</td>\n",
              "      <td>0.058889</td>\n",
              "      <td>0.000000</td>\n",
              "      <td>0.000000</td>\n",
              "      <td>0.000000</td>\n",
              "      <td>0.014031</td>\n",
              "    </tr>\n",
              "    <tr>\n",
              "      <th>3</th>\n",
              "      <td>0.000000</td>\n",
              "      <td>0.000000</td>\n",
              "      <td>0.000000</td>\n",
              "      <td>0.000000</td>\n",
              "      <td>0.000000</td>\n",
              "      <td>0.000000</td>\n",
              "      <td>0.000000</td>\n",
              "      <td>0.000000</td>\n",
              "      <td>0.036980</td>\n",
              "      <td>0.000000</td>\n",
              "      <td>...</td>\n",
              "      <td>0.043722</td>\n",
              "      <td>0.077606</td>\n",
              "      <td>0.155212</td>\n",
              "      <td>0.000000</td>\n",
              "      <td>0.000000</td>\n",
              "      <td>0.000000</td>\n",
              "      <td>0.000000</td>\n",
              "      <td>0.000000</td>\n",
              "      <td>0.000000</td>\n",
              "      <td>0.073959</td>\n",
              "    </tr>\n",
              "    <tr>\n",
              "      <th>4</th>\n",
              "      <td>0.000000</td>\n",
              "      <td>0.000000</td>\n",
              "      <td>0.000000</td>\n",
              "      <td>0.000000</td>\n",
              "      <td>0.000000</td>\n",
              "      <td>0.000000</td>\n",
              "      <td>0.000000</td>\n",
              "      <td>0.000000</td>\n",
              "      <td>0.036507</td>\n",
              "      <td>0.000000</td>\n",
              "      <td>...</td>\n",
              "      <td>0.043162</td>\n",
              "      <td>0.000000</td>\n",
              "      <td>0.000000</td>\n",
              "      <td>0.000000</td>\n",
              "      <td>0.076613</td>\n",
              "      <td>0.000000</td>\n",
              "      <td>0.076613</td>\n",
              "      <td>0.000000</td>\n",
              "      <td>0.000000</td>\n",
              "      <td>0.109520</td>\n",
              "    </tr>\n",
              "  </tbody>\n",
              "</table>\n",
              "<p>5 rows × 533 columns</p>\n",
              "</div>\n",
              "      <button class=\"colab-df-convert\" onclick=\"convertToInteractive('df-bf819f8d-b789-4fe6-8a8a-99b023bbb2bc')\"\n",
              "              title=\"Convert this dataframe to an interactive table.\"\n",
              "              style=\"display:none;\">\n",
              "        \n",
              "  <svg xmlns=\"http://www.w3.org/2000/svg\" height=\"24px\"viewBox=\"0 0 24 24\"\n",
              "       width=\"24px\">\n",
              "    <path d=\"M0 0h24v24H0V0z\" fill=\"none\"/>\n",
              "    <path d=\"M18.56 5.44l.94 2.06.94-2.06 2.06-.94-2.06-.94-.94-2.06-.94 2.06-2.06.94zm-11 1L8.5 8.5l.94-2.06 2.06-.94-2.06-.94L8.5 2.5l-.94 2.06-2.06.94zm10 10l.94 2.06.94-2.06 2.06-.94-2.06-.94-.94-2.06-.94 2.06-2.06.94z\"/><path d=\"M17.41 7.96l-1.37-1.37c-.4-.4-.92-.59-1.43-.59-.52 0-1.04.2-1.43.59L10.3 9.45l-7.72 7.72c-.78.78-.78 2.05 0 2.83L4 21.41c.39.39.9.59 1.41.59.51 0 1.02-.2 1.41-.59l7.78-7.78 2.81-2.81c.8-.78.8-2.07 0-2.86zM5.41 20L4 18.59l7.72-7.72 1.47 1.35L5.41 20z\"/>\n",
              "  </svg>\n",
              "      </button>\n",
              "      \n",
              "  <style>\n",
              "    .colab-df-container {\n",
              "      display:flex;\n",
              "      flex-wrap:wrap;\n",
              "      gap: 12px;\n",
              "    }\n",
              "\n",
              "    .colab-df-convert {\n",
              "      background-color: #E8F0FE;\n",
              "      border: none;\n",
              "      border-radius: 50%;\n",
              "      cursor: pointer;\n",
              "      display: none;\n",
              "      fill: #1967D2;\n",
              "      height: 32px;\n",
              "      padding: 0 0 0 0;\n",
              "      width: 32px;\n",
              "    }\n",
              "\n",
              "    .colab-df-convert:hover {\n",
              "      background-color: #E2EBFA;\n",
              "      box-shadow: 0px 1px 2px rgba(60, 64, 67, 0.3), 0px 1px 3px 1px rgba(60, 64, 67, 0.15);\n",
              "      fill: #174EA6;\n",
              "    }\n",
              "\n",
              "    [theme=dark] .colab-df-convert {\n",
              "      background-color: #3B4455;\n",
              "      fill: #D2E3FC;\n",
              "    }\n",
              "\n",
              "    [theme=dark] .colab-df-convert:hover {\n",
              "      background-color: #434B5C;\n",
              "      box-shadow: 0px 1px 3px 1px rgba(0, 0, 0, 0.15);\n",
              "      filter: drop-shadow(0px 1px 2px rgba(0, 0, 0, 0.3));\n",
              "      fill: #FFFFFF;\n",
              "    }\n",
              "  </style>\n",
              "\n",
              "      <script>\n",
              "        const buttonEl =\n",
              "          document.querySelector('#df-bf819f8d-b789-4fe6-8a8a-99b023bbb2bc button.colab-df-convert');\n",
              "        buttonEl.style.display =\n",
              "          google.colab.kernel.accessAllowed ? 'block' : 'none';\n",
              "\n",
              "        async function convertToInteractive(key) {\n",
              "          const element = document.querySelector('#df-bf819f8d-b789-4fe6-8a8a-99b023bbb2bc');\n",
              "          const dataTable =\n",
              "            await google.colab.kernel.invokeFunction('convertToInteractive',\n",
              "                                                     [key], {});\n",
              "          if (!dataTable) return;\n",
              "\n",
              "          const docLinkHtml = 'Like what you see? Visit the ' +\n",
              "            '<a target=\"_blank\" href=https://colab.research.google.com/notebooks/data_table.ipynb>data table notebook</a>'\n",
              "            + ' to learn more about interactive tables.';\n",
              "          element.innerHTML = '';\n",
              "          dataTable['output_type'] = 'display_data';\n",
              "          await google.colab.output.renderOutput(dataTable, element);\n",
              "          const docLink = document.createElement('div');\n",
              "          docLink.innerHTML = docLinkHtml;\n",
              "          element.appendChild(docLink);\n",
              "        }\n",
              "      </script>\n",
              "    </div>\n",
              "  </div>\n",
              "  "
            ]
          },
          "metadata": {},
          "execution_count": 20
        }
      ]
    },
    {
      "cell_type": "code",
      "source": [
        "# Source : https://scikit-learn.org/stable/auto_examples/compose/plot_column_transformer.html\n",
        "def text_stats(descriptions):\n",
        "    return [{\"length\": len(text), \"num_sentences\": text.count(\".\")}\n",
        "            for text in descriptions]\n",
        "\n",
        "text_stats_transformer = FunctionTransformer(text_stats)\n",
        "text_stats_vectorizer = DictVectorizer(sparse=False)"
      ],
      "metadata": {
        "id": "T14jIuOQOa8N"
      },
      "execution_count": null,
      "outputs": []
    },
    {
      "cell_type": "code",
      "source": [
        "res_dict = text_stats_transformer.transform(X_test.text.head())\n",
        "res_stats = text_stats_vectorizer.fit_transform(res_dict)\n",
        "print(\"Input text\")\n",
        "print(X_test.text.head())\n",
        "print()\n",
        "print(\"Output statistics\")\n",
        "stats = pd.DataFrame(res_stats, columns=text_stats_vectorizer.get_feature_names())\n",
        "stats.replace(0, np.nan).dropna(axis=1, how='all').fillna(0)\n",
        "stats"
      ],
      "metadata": {
        "colab": {
          "base_uri": "https://localhost:8080/",
          "height": 363
        },
        "id": "NWv_oWVzOeN8",
        "outputId": "3c39be92-baf1-47d3-e501-d373e712664d"
      },
      "execution_count": null,
      "outputs": [
        {
          "output_type": "stream",
          "name": "stdout",
          "text": [
            "Input text\n",
            "5669    La sonde Chang' e 1 modélisée . Source   : NAS...\n",
            "8800    Orbite de Proxima Centauri c à l' intérieur du...\n",
            "3205    Sommaire 1 Quelques chiffres \\n 2 Résultats et...\n",
            "8731    18 octobre 2009 . – Ce vendredi , 6 matchs de ...\n",
            "6412    29 novembre 2009 . – Le gardien de but du Pari...\n",
            "Name: text, dtype: object\n",
            "\n",
            "Output statistics\n"
          ]
        },
        {
          "output_type": "execute_result",
          "data": {
            "text/plain": [
              "   length  num_sentences\n",
              "0  2628.0           33.0\n",
              "1  1552.0           14.0\n",
              "2  3287.0           35.0\n",
              "3  1152.0           11.0\n",
              "4  1273.0           20.0"
            ],
            "text/html": [
              "\n",
              "  <div id=\"df-b7c99262-9774-47bf-9fe2-b6a5993c9da2\">\n",
              "    <div class=\"colab-df-container\">\n",
              "      <div>\n",
              "<style scoped>\n",
              "    .dataframe tbody tr th:only-of-type {\n",
              "        vertical-align: middle;\n",
              "    }\n",
              "\n",
              "    .dataframe tbody tr th {\n",
              "        vertical-align: top;\n",
              "    }\n",
              "\n",
              "    .dataframe thead th {\n",
              "        text-align: right;\n",
              "    }\n",
              "</style>\n",
              "<table border=\"1\" class=\"dataframe\">\n",
              "  <thead>\n",
              "    <tr style=\"text-align: right;\">\n",
              "      <th></th>\n",
              "      <th>length</th>\n",
              "      <th>num_sentences</th>\n",
              "    </tr>\n",
              "  </thead>\n",
              "  <tbody>\n",
              "    <tr>\n",
              "      <th>0</th>\n",
              "      <td>2628.0</td>\n",
              "      <td>33.0</td>\n",
              "    </tr>\n",
              "    <tr>\n",
              "      <th>1</th>\n",
              "      <td>1552.0</td>\n",
              "      <td>14.0</td>\n",
              "    </tr>\n",
              "    <tr>\n",
              "      <th>2</th>\n",
              "      <td>3287.0</td>\n",
              "      <td>35.0</td>\n",
              "    </tr>\n",
              "    <tr>\n",
              "      <th>3</th>\n",
              "      <td>1152.0</td>\n",
              "      <td>11.0</td>\n",
              "    </tr>\n",
              "    <tr>\n",
              "      <th>4</th>\n",
              "      <td>1273.0</td>\n",
              "      <td>20.0</td>\n",
              "    </tr>\n",
              "  </tbody>\n",
              "</table>\n",
              "</div>\n",
              "      <button class=\"colab-df-convert\" onclick=\"convertToInteractive('df-b7c99262-9774-47bf-9fe2-b6a5993c9da2')\"\n",
              "              title=\"Convert this dataframe to an interactive table.\"\n",
              "              style=\"display:none;\">\n",
              "        \n",
              "  <svg xmlns=\"http://www.w3.org/2000/svg\" height=\"24px\"viewBox=\"0 0 24 24\"\n",
              "       width=\"24px\">\n",
              "    <path d=\"M0 0h24v24H0V0z\" fill=\"none\"/>\n",
              "    <path d=\"M18.56 5.44l.94 2.06.94-2.06 2.06-.94-2.06-.94-.94-2.06-.94 2.06-2.06.94zm-11 1L8.5 8.5l.94-2.06 2.06-.94-2.06-.94L8.5 2.5l-.94 2.06-2.06.94zm10 10l.94 2.06.94-2.06 2.06-.94-2.06-.94-.94-2.06-.94 2.06-2.06.94z\"/><path d=\"M17.41 7.96l-1.37-1.37c-.4-.4-.92-.59-1.43-.59-.52 0-1.04.2-1.43.59L10.3 9.45l-7.72 7.72c-.78.78-.78 2.05 0 2.83L4 21.41c.39.39.9.59 1.41.59.51 0 1.02-.2 1.41-.59l7.78-7.78 2.81-2.81c.8-.78.8-2.07 0-2.86zM5.41 20L4 18.59l7.72-7.72 1.47 1.35L5.41 20z\"/>\n",
              "  </svg>\n",
              "      </button>\n",
              "      \n",
              "  <style>\n",
              "    .colab-df-container {\n",
              "      display:flex;\n",
              "      flex-wrap:wrap;\n",
              "      gap: 12px;\n",
              "    }\n",
              "\n",
              "    .colab-df-convert {\n",
              "      background-color: #E8F0FE;\n",
              "      border: none;\n",
              "      border-radius: 50%;\n",
              "      cursor: pointer;\n",
              "      display: none;\n",
              "      fill: #1967D2;\n",
              "      height: 32px;\n",
              "      padding: 0 0 0 0;\n",
              "      width: 32px;\n",
              "    }\n",
              "\n",
              "    .colab-df-convert:hover {\n",
              "      background-color: #E2EBFA;\n",
              "      box-shadow: 0px 1px 2px rgba(60, 64, 67, 0.3), 0px 1px 3px 1px rgba(60, 64, 67, 0.15);\n",
              "      fill: #174EA6;\n",
              "    }\n",
              "\n",
              "    [theme=dark] .colab-df-convert {\n",
              "      background-color: #3B4455;\n",
              "      fill: #D2E3FC;\n",
              "    }\n",
              "\n",
              "    [theme=dark] .colab-df-convert:hover {\n",
              "      background-color: #434B5C;\n",
              "      box-shadow: 0px 1px 3px 1px rgba(0, 0, 0, 0.15);\n",
              "      filter: drop-shadow(0px 1px 2px rgba(0, 0, 0, 0.3));\n",
              "      fill: #FFFFFF;\n",
              "    }\n",
              "  </style>\n",
              "\n",
              "      <script>\n",
              "        const buttonEl =\n",
              "          document.querySelector('#df-b7c99262-9774-47bf-9fe2-b6a5993c9da2 button.colab-df-convert');\n",
              "        buttonEl.style.display =\n",
              "          google.colab.kernel.accessAllowed ? 'block' : 'none';\n",
              "\n",
              "        async function convertToInteractive(key) {\n",
              "          const element = document.querySelector('#df-b7c99262-9774-47bf-9fe2-b6a5993c9da2');\n",
              "          const dataTable =\n",
              "            await google.colab.kernel.invokeFunction('convertToInteractive',\n",
              "                                                     [key], {});\n",
              "          if (!dataTable) return;\n",
              "\n",
              "          const docLinkHtml = 'Like what you see? Visit the ' +\n",
              "            '<a target=\"_blank\" href=https://colab.research.google.com/notebooks/data_table.ipynb>data table notebook</a>'\n",
              "            + ' to learn more about interactive tables.';\n",
              "          element.innerHTML = '';\n",
              "          dataTable['output_type'] = 'display_data';\n",
              "          await google.colab.output.renderOutput(dataTable, element);\n",
              "          const docLink = document.createElement('div');\n",
              "          docLink.innerHTML = docLinkHtml;\n",
              "          element.appendChild(docLink);\n",
              "        }\n",
              "      </script>\n",
              "    </div>\n",
              "  </div>\n",
              "  "
            ]
          },
          "metadata": {},
          "execution_count": 22
        }
      ]
    },
    {
      "cell_type": "code",
      "source": [
        "min_max_scaler = MinMaxScaler()\n",
        "scaled_stats = min_max_scaler.fit_transform(res_stats)"
      ],
      "metadata": {
        "id": "EglgLJesOm03"
      },
      "execution_count": null,
      "outputs": []
    },
    {
      "cell_type": "code",
      "source": [
        "print(\"Before MinMax scaling\")\n",
        "print(res_stats)\n",
        "print()\n",
        "print(\"After MinMax scaling\")\n",
        "print(scaled_stats)"
      ],
      "metadata": {
        "colab": {
          "base_uri": "https://localhost:8080/"
        },
        "id": "WiCBGa6pOogd",
        "outputId": "abd3fb91-9c10-4e47-be38-4eadf76d7cde"
      },
      "execution_count": null,
      "outputs": [
        {
          "output_type": "stream",
          "name": "stdout",
          "text": [
            "Before MinMax scaling\n",
            "[[2628.   33.]\n",
            " [1552.   14.]\n",
            " [3287.   35.]\n",
            " [1152.   11.]\n",
            " [1273.   20.]]\n",
            "\n",
            "After MinMax scaling\n",
            "[[0.69133489 0.91666667]\n",
            " [0.18735363 0.125     ]\n",
            " [1.         1.        ]\n",
            " [0.         0.        ]\n",
            " [0.05667447 0.375     ]]\n"
          ]
        }
      ]
    },
    {
      "cell_type": "code",
      "source": [
        "column_trans = ColumnTransformer(\n",
        "     [\n",
        "         # Colonne 'variety' : bag-of-words\n",
        "         ('title_bow', var_vectorizer, 'title'),\n",
        "         # Colonne 'description' : tf-idf\n",
        "         ('text_tfidf', desc_vectorizer, 'text'),\n",
        "         # Colonne 'description' : statistiques\n",
        "         (\n",
        "             'text_stats',\n",
        "             Pipeline(\n",
        "                 [\n",
        "                     ('text_stats', text_stats_transformer),\n",
        "                     ('vect', text_stats_vectorizer),\n",
        "                     ('scaling', min_max_scaler)\n",
        "                 ]\n",
        "             ),\n",
        "             'text'\n",
        "         )\n",
        "     ],\n",
        "     # Colonnes 'expensive' et 'sparkling' : conservées telles quelles\n",
        "     remainder='passthrough'\n",
        " )"
      ],
      "metadata": {
        "id": "L9zC6rahOwtY"
      },
      "execution_count": null,
      "outputs": []
    },
    {
      "cell_type": "code",
      "source": [
        "column_trans"
      ],
      "metadata": {
        "colab": {
          "base_uri": "https://localhost:8080/"
        },
        "id": "KT5ywii6PBB1",
        "outputId": "3bffdb2d-8ad1-46a8-888f-f8af18e350ac"
      },
      "execution_count": null,
      "outputs": [
        {
          "output_type": "execute_result",
          "data": {
            "text/plain": [
              "ColumnTransformer(remainder='passthrough',\n",
              "                  transformers=[('title_bow',\n",
              "                                 CountVectorizer(min_df=0.01,\n",
              "                                                 tokenizer=<function tokenize_variety at 0x7f93095ee200>),\n",
              "                                 'title'),\n",
              "                                ('text_tfidf',\n",
              "                                 TfidfVectorizer(min_df=0.01,\n",
              "                                                 stop_words=['au', 'aux',\n",
              "                                                             'avec', 'ce',\n",
              "                                                             'ces', 'dans',\n",
              "                                                             'de', 'des', 'du',\n",
              "                                                             'elle', 'en', 'et',\n",
              "                                                             'eux', 'il', 'ils',\n",
              "                                                             'je', 'la', 'le',\n",
              "                                                             'les', 'leur',\n",
              "                                                             'lui', 'ma',\n",
              "                                                             'mais', 'me',\n",
              "                                                             'même', 'mes',\n",
              "                                                             'moi', 'mon', 'ne',\n",
              "                                                             'nos', ...],\n",
              "                                                 tokenizer=<function split_into_tokens_nltk at 0x7f9309156cb0>),\n",
              "                                 'text'),\n",
              "                                ('text_stats',\n",
              "                                 Pipeline(steps=[('text_stats',\n",
              "                                                  FunctionTransformer(func=<function text_stats at 0x7f9309138680>)),\n",
              "                                                 ('vect',\n",
              "                                                  DictVectorizer(sparse=False)),\n",
              "                                                 ('scaling', MinMaxScaler())]),\n",
              "                                 'text')])"
            ]
          },
          "metadata": {},
          "execution_count": 26
        }
      ]
    },
    {
      "cell_type": "markdown",
      "source": [
        "### Apprentissage"
      ],
      "metadata": {
        "id": "qvLjR35mPIzI"
      }
    },
    {
      "cell_type": "code",
      "source": [
        "# Prétraitement + apprentissage\n",
        "classifier_pipeline = make_pipeline(\n",
        "    # Préparation des données pour l'apprentissage\n",
        "    column_trans,\n",
        "    # Algorithme d'apprentissage\n",
        "    LogisticRegression()\n",
        ")"
      ],
      "metadata": {
        "id": "erCMpA9ePHj9"
      },
      "execution_count": null,
      "outputs": []
    },
    {
      "cell_type": "code",
      "source": [
        "classifier_pipeline.fit(X_train, y_train)"
      ],
      "metadata": {
        "colab": {
          "base_uri": "https://localhost:8080/"
        },
        "id": "9mOJW1dDPMj0",
        "outputId": "e96a8b6e-7ad7-4450-ff18-90cbe76cb0fc"
      },
      "execution_count": null,
      "outputs": [
        {
          "output_type": "execute_result",
          "data": {
            "text/plain": [
              "Pipeline(steps=[('columntransformer',\n",
              "                 ColumnTransformer(remainder='passthrough',\n",
              "                                   transformers=[('title_bow',\n",
              "                                                  CountVectorizer(min_df=0.01,\n",
              "                                                                  tokenizer=<function tokenize_variety at 0x7f93095ee200>),\n",
              "                                                  'title'),\n",
              "                                                 ('text_tfidf',\n",
              "                                                  TfidfVectorizer(min_df=0.01,\n",
              "                                                                  stop_words=['au',\n",
              "                                                                              'aux',\n",
              "                                                                              'avec',\n",
              "                                                                              'ce',\n",
              "                                                                              'ces',\n",
              "                                                                              'dans',\n",
              "                                                                              'de',\n",
              "                                                                              'des',\n",
              "                                                                              'du',\n",
              "                                                                              'elle',\n",
              "                                                                              'en',\n",
              "                                                                              'et',\n",
              "                                                                              'eux',\n",
              "                                                                              'il',\n",
              "                                                                              'ils',\n",
              "                                                                              'je',\n",
              "                                                                              'la',\n",
              "                                                                              'le...\n",
              "                                                                              'mais',\n",
              "                                                                              'me',\n",
              "                                                                              'même',\n",
              "                                                                              'mes',\n",
              "                                                                              'moi',\n",
              "                                                                              'mon',\n",
              "                                                                              'ne',\n",
              "                                                                              'nos', ...],\n",
              "                                                                  tokenizer=<function split_into_tokens_nltk at 0x7f9309156cb0>),\n",
              "                                                  'text'),\n",
              "                                                 ('text_stats',\n",
              "                                                  Pipeline(steps=[('text_stats',\n",
              "                                                                   FunctionTransformer(func=<function text_stats at 0x7f9309138680>)),\n",
              "                                                                  ('vect',\n",
              "                                                                   DictVectorizer(sparse=False)),\n",
              "                                                                  ('scaling',\n",
              "                                                                   MinMaxScaler())]),\n",
              "                                                  'text')])),\n",
              "                ('logisticregression', LogisticRegression())])"
            ]
          },
          "metadata": {},
          "execution_count": 28
        }
      ]
    },
    {
      "cell_type": "code",
      "source": [
        "y_pred = classifier_pipeline.predict(X_test)\n",
        "print(\"Classification report:\\n\\n{}\".format(classification_report(y_test, y_pred)))"
      ],
      "metadata": {
        "colab": {
          "base_uri": "https://localhost:8080/"
        },
        "id": "YREspXOWPObK",
        "outputId": "81f157e1-2db7-4c55-de52-b5e7a7f17b17"
      },
      "execution_count": null,
      "outputs": [
        {
          "output_type": "stream",
          "name": "stdout",
          "text": [
            "Classification report:\n",
            "\n",
            "              precision    recall  f1-score   support\n",
            "\n",
            "    economie       0.74      0.65      0.70       199\n",
            "  enviro_cat       0.82      0.60      0.70        91\n",
            "     justice       0.80      0.66      0.73       134\n",
            "       polit       0.77      0.90      0.83       491\n",
            "    sci_cult       0.75      0.67      0.71       128\n",
            "      sports       0.99      0.99      0.99       957\n",
            "\n",
            "    accuracy                           0.87      2000\n",
            "   macro avg       0.81      0.75      0.77      2000\n",
            "weighted avg       0.87      0.87      0.87      2000\n",
            "\n"
          ]
        }
      ]
    },
    {
      "cell_type": "code",
      "source": [
        "# Liste des labels (classes) se trouvant dans les données de test\n",
        "labels = np.unique(y_test)\n",
        "# Matrice de confusion\n",
        "cm =  confusion_matrix(y_test, y_pred, labels=labels)\n",
        "# Matrice de confusion sous forme de DataFrame\n",
        "confusion_df = pd.DataFrame(cm, index=labels, columns=labels)\n",
        "print('confusion matrix\\n')\n",
        "print('(row=expected, col=predicted)')\n",
        "confusion_df.head(n=15)"
      ],
      "metadata": {
        "colab": {
          "base_uri": "https://localhost:8080/",
          "height": 290
        },
        "id": "hLknNqqPPRMW",
        "outputId": "d2db29f5-0dfd-4843-9cc1-f871362cbe3e"
      },
      "execution_count": null,
      "outputs": [
        {
          "output_type": "stream",
          "name": "stdout",
          "text": [
            "confusion matrix\n",
            "\n",
            "(row=expected, col=predicted)\n"
          ]
        },
        {
          "output_type": "execute_result",
          "data": {
            "text/plain": [
              "            economie  enviro_cat  justice  polit  sci_cult  sports\n",
              "economie         130           5        2     48        11       3\n",
              "enviro_cat         7          55        1     19         9       0\n",
              "justice            4           1       89     38         1       1\n",
              "polit             21           2       16    442         5       5\n",
              "sci_cult          13           3        3     19        86       4\n",
              "sports             0           1        0     10         2     944"
            ],
            "text/html": [
              "\n",
              "  <div id=\"df-73d64932-69f9-469e-8944-aecaa50ce39a\">\n",
              "    <div class=\"colab-df-container\">\n",
              "      <div>\n",
              "<style scoped>\n",
              "    .dataframe tbody tr th:only-of-type {\n",
              "        vertical-align: middle;\n",
              "    }\n",
              "\n",
              "    .dataframe tbody tr th {\n",
              "        vertical-align: top;\n",
              "    }\n",
              "\n",
              "    .dataframe thead th {\n",
              "        text-align: right;\n",
              "    }\n",
              "</style>\n",
              "<table border=\"1\" class=\"dataframe\">\n",
              "  <thead>\n",
              "    <tr style=\"text-align: right;\">\n",
              "      <th></th>\n",
              "      <th>economie</th>\n",
              "      <th>enviro_cat</th>\n",
              "      <th>justice</th>\n",
              "      <th>polit</th>\n",
              "      <th>sci_cult</th>\n",
              "      <th>sports</th>\n",
              "    </tr>\n",
              "  </thead>\n",
              "  <tbody>\n",
              "    <tr>\n",
              "      <th>economie</th>\n",
              "      <td>130</td>\n",
              "      <td>5</td>\n",
              "      <td>2</td>\n",
              "      <td>48</td>\n",
              "      <td>11</td>\n",
              "      <td>3</td>\n",
              "    </tr>\n",
              "    <tr>\n",
              "      <th>enviro_cat</th>\n",
              "      <td>7</td>\n",
              "      <td>55</td>\n",
              "      <td>1</td>\n",
              "      <td>19</td>\n",
              "      <td>9</td>\n",
              "      <td>0</td>\n",
              "    </tr>\n",
              "    <tr>\n",
              "      <th>justice</th>\n",
              "      <td>4</td>\n",
              "      <td>1</td>\n",
              "      <td>89</td>\n",
              "      <td>38</td>\n",
              "      <td>1</td>\n",
              "      <td>1</td>\n",
              "    </tr>\n",
              "    <tr>\n",
              "      <th>polit</th>\n",
              "      <td>21</td>\n",
              "      <td>2</td>\n",
              "      <td>16</td>\n",
              "      <td>442</td>\n",
              "      <td>5</td>\n",
              "      <td>5</td>\n",
              "    </tr>\n",
              "    <tr>\n",
              "      <th>sci_cult</th>\n",
              "      <td>13</td>\n",
              "      <td>3</td>\n",
              "      <td>3</td>\n",
              "      <td>19</td>\n",
              "      <td>86</td>\n",
              "      <td>4</td>\n",
              "    </tr>\n",
              "    <tr>\n",
              "      <th>sports</th>\n",
              "      <td>0</td>\n",
              "      <td>1</td>\n",
              "      <td>0</td>\n",
              "      <td>10</td>\n",
              "      <td>2</td>\n",
              "      <td>944</td>\n",
              "    </tr>\n",
              "  </tbody>\n",
              "</table>\n",
              "</div>\n",
              "      <button class=\"colab-df-convert\" onclick=\"convertToInteractive('df-73d64932-69f9-469e-8944-aecaa50ce39a')\"\n",
              "              title=\"Convert this dataframe to an interactive table.\"\n",
              "              style=\"display:none;\">\n",
              "        \n",
              "  <svg xmlns=\"http://www.w3.org/2000/svg\" height=\"24px\"viewBox=\"0 0 24 24\"\n",
              "       width=\"24px\">\n",
              "    <path d=\"M0 0h24v24H0V0z\" fill=\"none\"/>\n",
              "    <path d=\"M18.56 5.44l.94 2.06.94-2.06 2.06-.94-2.06-.94-.94-2.06-.94 2.06-2.06.94zm-11 1L8.5 8.5l.94-2.06 2.06-.94-2.06-.94L8.5 2.5l-.94 2.06-2.06.94zm10 10l.94 2.06.94-2.06 2.06-.94-2.06-.94-.94-2.06-.94 2.06-2.06.94z\"/><path d=\"M17.41 7.96l-1.37-1.37c-.4-.4-.92-.59-1.43-.59-.52 0-1.04.2-1.43.59L10.3 9.45l-7.72 7.72c-.78.78-.78 2.05 0 2.83L4 21.41c.39.39.9.59 1.41.59.51 0 1.02-.2 1.41-.59l7.78-7.78 2.81-2.81c.8-.78.8-2.07 0-2.86zM5.41 20L4 18.59l7.72-7.72 1.47 1.35L5.41 20z\"/>\n",
              "  </svg>\n",
              "      </button>\n",
              "      \n",
              "  <style>\n",
              "    .colab-df-container {\n",
              "      display:flex;\n",
              "      flex-wrap:wrap;\n",
              "      gap: 12px;\n",
              "    }\n",
              "\n",
              "    .colab-df-convert {\n",
              "      background-color: #E8F0FE;\n",
              "      border: none;\n",
              "      border-radius: 50%;\n",
              "      cursor: pointer;\n",
              "      display: none;\n",
              "      fill: #1967D2;\n",
              "      height: 32px;\n",
              "      padding: 0 0 0 0;\n",
              "      width: 32px;\n",
              "    }\n",
              "\n",
              "    .colab-df-convert:hover {\n",
              "      background-color: #E2EBFA;\n",
              "      box-shadow: 0px 1px 2px rgba(60, 64, 67, 0.3), 0px 1px 3px 1px rgba(60, 64, 67, 0.15);\n",
              "      fill: #174EA6;\n",
              "    }\n",
              "\n",
              "    [theme=dark] .colab-df-convert {\n",
              "      background-color: #3B4455;\n",
              "      fill: #D2E3FC;\n",
              "    }\n",
              "\n",
              "    [theme=dark] .colab-df-convert:hover {\n",
              "      background-color: #434B5C;\n",
              "      box-shadow: 0px 1px 3px 1px rgba(0, 0, 0, 0.15);\n",
              "      filter: drop-shadow(0px 1px 2px rgba(0, 0, 0, 0.3));\n",
              "      fill: #FFFFFF;\n",
              "    }\n",
              "  </style>\n",
              "\n",
              "      <script>\n",
              "        const buttonEl =\n",
              "          document.querySelector('#df-73d64932-69f9-469e-8944-aecaa50ce39a button.colab-df-convert');\n",
              "        buttonEl.style.display =\n",
              "          google.colab.kernel.accessAllowed ? 'block' : 'none';\n",
              "\n",
              "        async function convertToInteractive(key) {\n",
              "          const element = document.querySelector('#df-73d64932-69f9-469e-8944-aecaa50ce39a');\n",
              "          const dataTable =\n",
              "            await google.colab.kernel.invokeFunction('convertToInteractive',\n",
              "                                                     [key], {});\n",
              "          if (!dataTable) return;\n",
              "\n",
              "          const docLinkHtml = 'Like what you see? Visit the ' +\n",
              "            '<a target=\"_blank\" href=https://colab.research.google.com/notebooks/data_table.ipynb>data table notebook</a>'\n",
              "            + ' to learn more about interactive tables.';\n",
              "          element.innerHTML = '';\n",
              "          dataTable['output_type'] = 'display_data';\n",
              "          await google.colab.output.renderOutput(dataTable, element);\n",
              "          const docLink = document.createElement('div');\n",
              "          docLink.innerHTML = docLinkHtml;\n",
              "          element.appendChild(docLink);\n",
              "        }\n",
              "      </script>\n",
              "    </div>\n",
              "  </div>\n",
              "  "
            ]
          },
          "metadata": {},
          "execution_count": 31
        }
      ]
    },
    {
      "cell_type": "code",
      "source": [
        "plt.matshow(confusion_matrix(y_test, y_pred),\n",
        "            cmap=plt.cm.binary, interpolation='nearest')\n",
        "plt.title('confusion matrix')\n",
        "plt.colorbar()\n",
        "plt.ylabel('expected label')\n",
        "plt.xlabel('predicted label')"
      ],
      "metadata": {
        "colab": {
          "base_uri": "https://localhost:8080/",
          "height": 280
        },
        "id": "LbZ39a5EPVqh",
        "outputId": "abf86a00-300f-478b-ac7c-abd0d95d5c2f"
      },
      "execution_count": null,
      "outputs": [
        {
          "output_type": "execute_result",
          "data": {
            "text/plain": [
              "Text(0.5, 0, 'predicted label')"
            ]
          },
          "metadata": {},
          "execution_count": 32
        },
        {
          "output_type": "display_data",
          "data": {
            "text/plain": [
              "<Figure size 288x288 with 2 Axes>"
            ],
            "image/png": "[encoded data removed]"
          },
          "metadata": {
            "needs_background": "light"
          }
        }
      ]
    },
    {
      "cell_type": "code",
      "source": [
        "fig = plt.figure()\n",
        "ax = fig.add_subplot(111)\n",
        "cax = ax.matshow(cm, interpolation='nearest', cmap=plt.cm.Oranges)\n",
        "fig.colorbar(cax)\n",
        "tick_marks = np.arange(len(labels))\n",
        "labels_for_fig = [l[0:5]+'.' for l in labels]\n",
        "plt.xticks(tick_marks, labels_for_fig, rotation=45)\n",
        "plt.yticks(tick_marks, labels_for_fig)\n",
        "plt.xlabel('Predicted')\n",
        "plt.ylabel('Expected')\n",
        "plt.show()"
      ],
      "metadata": {
        "colab": {
          "base_uri": "https://localhost:8080/",
          "height": 300
        },
        "id": "5MHRK8vuPXha",
        "outputId": "d25e515d-da1b-4157-c02a-174053c79879"
      },
      "execution_count": null,
      "outputs": [
        {
          "output_type": "display_data",
          "data": {
            "text/plain": [
              "<Figure size 432x288 with 2 Axes>"
            ],
            "image/png": "[encoded data removed]"
          },
          "metadata": {
            "needs_background": "light"
          }
        }
      ]
    },
    {
      "cell_type": "markdown",
      "source": [
        "### Apprentissage et évaluation par validation croisée"
      ],
      "metadata": {
        "id": "5mAMRgoLQyjV"
      }
    },
    {
      "cell_type": "code",
      "source": [
        "# Nombre de plis\n",
        "folds = 5\n",
        "kfold = model_selection.KFold(n_splits=folds, shuffle=True, random_state=12)"
      ],
      "metadata": {
        "id": "fvRNMRUzPbNN"
      },
      "execution_count": null,
      "outputs": []
    },
    {
      "cell_type": "code",
      "source": [
        "y_kfold_pred = model_selection.cross_val_predict(classifier_pipeline, X_train,\n",
        "                                                   y_train, cv=kfold, n_jobs=-1)"
      ],
      "metadata": {
        "id": "-YnC0kCmPcr_"
      },
      "execution_count": null,
      "outputs": []
    },
    {
      "cell_type": "code",
      "source": [
        "print(classification_report(y_train, y_kfold_pred))"
      ],
      "metadata": {
        "colab": {
          "base_uri": "https://localhost:8080/"
        },
        "id": "1rjRCOLZPeNN",
        "outputId": "d74368ca-d2c3-4469-cb46-2e386b80e72b"
      },
      "execution_count": null,
      "outputs": [
        {
          "output_type": "stream",
          "name": "stdout",
          "text": [
            "              precision    recall  f1-score   support\n",
            "\n",
            "    economie       0.69      0.62      0.65       788\n",
            "  enviro_cat       0.77      0.57      0.65       378\n",
            "     justice       0.75      0.59      0.66       591\n",
            "       polit       0.74      0.89      0.81      1915\n",
            "    sci_cult       0.70      0.56      0.62       505\n",
            "      sports       0.99      0.98      0.99      3823\n",
            "\n",
            "    accuracy                           0.85      8000\n",
            "   macro avg       0.77      0.71      0.73      8000\n",
            "weighted avg       0.85      0.85      0.85      8000\n",
            "\n"
          ]
        }
      ]
    },
    {
      "cell_type": "markdown",
      "source": [
        "### StratifiedKFold"
      ],
      "metadata": {
        "id": "ZupqvP6YPgZe"
      }
    },
    {
      "cell_type": "code",
      "source": [
        "stratkfold = model_selection.StratifiedKFold(n_splits=folds, shuffle=True, random_state=12)"
      ],
      "metadata": {
        "id": "v7paHReQPjK-"
      },
      "execution_count": null,
      "outputs": []
    },
    {
      "cell_type": "code",
      "source": [
        "y_stratkfold_pred = model_selection.cross_val_predict(classifier_pipeline, X_train,\n",
        "                                                   y_train, cv=stratkfold, n_jobs=-1)"
      ],
      "metadata": {
        "id": "H11sLaJwPlve"
      },
      "execution_count": null,
      "outputs": []
    },
    {
      "cell_type": "code",
      "source": [
        "print(classification_report(y_train, y_stratkfold_pred))"
      ],
      "metadata": {
        "colab": {
          "base_uri": "https://localhost:8080/"
        },
        "id": "uqJ87mOpPngs",
        "outputId": "967bef0c-c474-4543-af29-4521ed4a055f"
      },
      "execution_count": null,
      "outputs": [
        {
          "output_type": "stream",
          "name": "stdout",
          "text": [
            "              precision    recall  f1-score   support\n",
            "\n",
            "    economie       0.68      0.63      0.65       788\n",
            "  enviro_cat       0.76      0.59      0.67       378\n",
            "     justice       0.75      0.60      0.66       591\n",
            "       polit       0.74      0.89      0.81      1915\n",
            "    sci_cult       0.74      0.59      0.65       505\n",
            "      sports       0.99      0.99      0.99      3823\n",
            "\n",
            "    accuracy                           0.86      8000\n",
            "   macro avg       0.78      0.71      0.74      8000\n",
            "weighted avg       0.86      0.86      0.85      8000\n",
            "\n"
          ]
        }
      ]
    },
    {
      "cell_type": "markdown",
      "source": [
        "### Comparaison de plusieurs classifieurs"
      ],
      "metadata": {
        "id": "0OjyUQSuPrUT"
      }
    },
    {
      "cell_type": "code",
      "source": [
        "# Modèles à comparer\n",
        "models = [\n",
        "    ('Baseline', DummyClassifier(strategy='most_frequent')),\n",
        "    ('Mutinomial NB', MultinomialNB()),\n",
        "    ('CART', DecisionTreeClassifier()),\n",
        "    ('LR', LogisticRegression()),\n",
        "    ('KNN', KNeighborsClassifier()),\n",
        "    ('Random forest', RandomForestClassifier())\n",
        "]\n",
        "# Evaluation de chaque résultat l'un après l'autre\n",
        "scores = []\n",
        "names = []\n",
        "scoring = 'accuracy'\n",
        "# Validation croisée à 5 plis\n",
        "kfold = model_selection.StratifiedKFold(n_splits=5, shuffle=True, random_state=12)\n",
        "for name, model in models:\n",
        "    names.append(name)\n",
        "    model_pipeline = make_pipeline(column_trans, model)\n",
        "    y_pred = model_selection.cross_val_predict(model_pipeline,\n",
        "                                               X_train, y_train,\n",
        "                                               cv=kfold)\n",
        "    print(name)\n",
        "    print(classification_report(y_train, y_pred))\n",
        "    acc = metrics.accuracy_score(y_train, y_pred)\n",
        "    scores.append(acc)\n",
        "\n",
        "# Représentation graphique des résultats\n",
        "indices = np.arange(len(scores))\n",
        "fig = plt.figure()\n",
        "plt.barh(indices, scores, .2, label=\"score\", color='b')\n",
        "plt.yticks(())\n",
        "for i, c in zip(indices, names):\n",
        "    plt.text(-.3, i, c)\n",
        "plt.show()"
      ],
      "metadata": {
        "colab": {
          "base_uri": "https://localhost:8080/",
          "height": 1000
        },
        "id": "DPJ-WubNPt4T",
        "outputId": "65f5b558-1c6f-4cd0-a175-6aa98ec22c0e"
      },
      "execution_count": null,
      "outputs": [
        {
          "output_type": "stream",
          "name": "stdout",
          "text": [
            "Baseline\n",
            "              precision    recall  f1-score   support\n",
            "\n",
            "    economie       0.00      0.00      0.00       788\n",
            "  enviro_cat       0.00      0.00      0.00       378\n",
            "     justice       0.00      0.00      0.00       591\n",
            "       polit       0.00      0.00      0.00      1915\n",
            "    sci_cult       0.00      0.00      0.00       505\n",
            "      sports       0.48      1.00      0.65      3823\n",
            "\n",
            "    accuracy                           0.48      8000\n",
            "   macro avg       0.08      0.17      0.11      8000\n",
            "weighted avg       0.23      0.48      0.31      8000\n",
            "\n",
            "Mutinomial NB\n",
            "              precision    recall  f1-score   support\n",
            "\n",
            "    economie       0.73      0.43      0.54       788\n",
            "  enviro_cat       0.73      0.44      0.55       378\n",
            "     justice       0.72      0.51      0.59       591\n",
            "       polit       0.59      0.94      0.72      1915\n",
            "    sci_cult       0.56      0.39      0.46       505\n",
            "      sports       1.00      0.91      0.95      3823\n",
            "\n",
            "    accuracy                           0.78      8000\n",
            "   macro avg       0.72      0.60      0.64      8000\n",
            "weighted avg       0.81      0.78      0.78      8000\n",
            "\n",
            "CART\n",
            "              precision    recall  f1-score   support\n",
            "\n",
            "    economie       0.44      0.48      0.46       788\n",
            "  enviro_cat       0.43      0.42      0.42       378\n",
            "     justice       0.50      0.49      0.50       591\n",
            "       polit       0.66      0.66      0.66      1915\n",
            "    sci_cult       0.43      0.39      0.41       505\n",
            "      sports       0.96      0.96      0.96      3823\n",
            "\n",
            "    accuracy                           0.74      8000\n",
            "   macro avg       0.57      0.57      0.57      8000\n",
            "weighted avg       0.74      0.74      0.74      8000\n",
            "\n",
            "LR\n",
            "              precision    recall  f1-score   support\n",
            "\n",
            "    economie       0.68      0.63      0.65       788\n",
            "  enviro_cat       0.76      0.59      0.67       378\n",
            "     justice       0.75      0.60      0.66       591\n",
            "       polit       0.74      0.89      0.81      1915\n",
            "    sci_cult       0.74      0.59      0.65       505\n",
            "      sports       0.99      0.99      0.99      3823\n",
            "\n",
            "    accuracy                           0.86      8000\n",
            "   macro avg       0.78      0.71      0.74      8000\n",
            "weighted avg       0.86      0.86      0.85      8000\n",
            "\n",
            "KNN\n",
            "              precision    recall  f1-score   support\n",
            "\n",
            "    economie       0.30      0.37      0.33       788\n",
            "  enviro_cat       0.33      0.30      0.31       378\n",
            "     justice       0.50      0.39      0.44       591\n",
            "       polit       0.53      0.65      0.59      1915\n",
            "    sci_cult       0.24      0.13      0.17       505\n",
            "      sports       0.97      0.91      0.94      3823\n",
            "\n",
            "    accuracy                           0.68      8000\n",
            "   macro avg       0.48      0.46      0.46      8000\n",
            "weighted avg       0.69      0.68      0.68      8000\n",
            "\n",
            "Random forest\n",
            "              precision    recall  f1-score   support\n",
            "\n",
            "    economie       0.64      0.47      0.54       788\n",
            "  enviro_cat       0.76      0.38      0.51       378\n",
            "     justice       0.68      0.47      0.56       591\n",
            "       polit       0.64      0.88      0.74      1915\n",
            "    sci_cult       0.71      0.42      0.53       505\n",
            "      sports       0.98      0.99      0.98      3823\n",
            "\n",
            "    accuracy                           0.81      8000\n",
            "   macro avg       0.73      0.60      0.64      8000\n",
            "weighted avg       0.81      0.81      0.80      8000\n",
            "\n"
          ]
        },
        {
          "output_type": "display_data",
          "data": {
            "text/plain": [
              "<Figure size 432x288 with 1 Axes>"
            ],
            "image/png": "[encoded data removed]"
          },
          "metadata": {
            "needs_background": "light"
          }
        }
      ]
    },
    {
      "cell_type": "markdown",
      "source": [
        "### Entraînement uniquement avec une partie des traits"
      ],
      "metadata": {
        "id": "Swz2PcYVP2tW"
      }
    },
    {
      "cell_type": "code",
      "source": [
        "column_trans2 = ColumnTransformer(\n",
        "     [\n",
        "         # Colonne 'variety' : bag-of-words\n",
        "         ('title_bow', var_vectorizer, 'title'),\n",
        "         # Colonne 'description' : tf-idf\n",
        "         ('text_tfidf', desc_vectorizer, 'text'),\n",
        "     ],\n",
        "     # Colonnes 'expensive' et 'sparkling' : conservées telles quelles\n",
        "     #remainder='passthrough'\n",
        "     remainder='drop'\n",
        " )\n",
        "column_trans2"
      ],
      "metadata": {
        "colab": {
          "base_uri": "https://localhost:8080/"
        },
        "id": "ZzDF4vReP6hC",
        "outputId": "288c63f1-015b-47f1-ad32-b51943ed544a"
      },
      "execution_count": null,
      "outputs": [
        {
          "output_type": "execute_result",
          "data": {
            "text/plain": [
              "ColumnTransformer(transformers=[('title_bow',\n",
              "                                 CountVectorizer(min_df=0.01,\n",
              "                                                 tokenizer=<function tokenize_variety at 0x7f93095ee200>),\n",
              "                                 'title'),\n",
              "                                ('text_tfidf',\n",
              "                                 TfidfVectorizer(min_df=0.01,\n",
              "                                                 stop_words=['au', 'aux',\n",
              "                                                             'avec', 'ce',\n",
              "                                                             'ces', 'dans',\n",
              "                                                             'de', 'des', 'du',\n",
              "                                                             'elle', 'en', 'et',\n",
              "                                                             'eux', 'il', 'ils',\n",
              "                                                             'je', 'la', 'le',\n",
              "                                                             'les', 'leur',\n",
              "                                                             'lui', 'ma',\n",
              "                                                             'mais', 'me',\n",
              "                                                             'même', 'mes',\n",
              "                                                             'moi', 'mon', 'ne',\n",
              "                                                             'nos', ...],\n",
              "                                                 tokenizer=<function split_into_tokens_nltk at 0x7f9309156cb0>),\n",
              "                                 'text')])"
            ]
          },
          "metadata": {},
          "execution_count": 43
        }
      ]
    },
    {
      "cell_type": "code",
      "source": [
        "# Validation croisée à 5 plis\n",
        "for name, model in models:\n",
        "    model_pipeline = make_pipeline(column_trans2, model)\n",
        "    y_pred = model_selection.cross_val_predict(model_pipeline, X_train, y_train,\n",
        "                                               cv=kfold)\n",
        "    print(name)\n",
        "    print(classification_report(y_train, y_pred))"
      ],
      "metadata": {
        "colab": {
          "base_uri": "https://localhost:8080/"
        },
        "id": "VwKP1YExQCmX",
        "outputId": "c9d01b87-ef46-4aa5-b3a0-3e8657831101"
      },
      "execution_count": null,
      "outputs": [
        {
          "output_type": "stream",
          "name": "stdout",
          "text": [
            "Baseline\n",
            "              precision    recall  f1-score   support\n",
            "\n",
            "    economie       0.00      0.00      0.00       788\n",
            "  enviro_cat       0.00      0.00      0.00       378\n",
            "     justice       0.00      0.00      0.00       591\n",
            "       polit       0.00      0.00      0.00      1915\n",
            "    sci_cult       0.00      0.00      0.00       505\n",
            "      sports       0.48      1.00      0.65      3823\n",
            "\n",
            "    accuracy                           0.48      8000\n",
            "   macro avg       0.08      0.17      0.11      8000\n",
            "weighted avg       0.23      0.48      0.31      8000\n",
            "\n",
            "Mutinomial NB\n",
            "              precision    recall  f1-score   support\n",
            "\n",
            "    economie       0.73      0.43      0.54       788\n",
            "  enviro_cat       0.72      0.44      0.55       378\n",
            "     justice       0.72      0.51      0.59       591\n",
            "       polit       0.59      0.94      0.72      1915\n",
            "    sci_cult       0.56      0.39      0.46       505\n",
            "      sports       1.00      0.91      0.95      3823\n",
            "\n",
            "    accuracy                           0.78      8000\n",
            "   macro avg       0.72      0.60      0.64      8000\n",
            "weighted avg       0.81      0.78      0.78      8000\n",
            "\n",
            "CART\n",
            "              precision    recall  f1-score   support\n",
            "\n",
            "    economie       0.45      0.48      0.46       788\n",
            "  enviro_cat       0.41      0.40      0.41       378\n",
            "     justice       0.50      0.49      0.50       591\n",
            "       polit       0.66      0.66      0.66      1915\n",
            "    sci_cult       0.42      0.38      0.40       505\n",
            "      sports       0.95      0.96      0.96      3823\n",
            "\n",
            "    accuracy                           0.74      8000\n",
            "   macro avg       0.57      0.56      0.57      8000\n",
            "weighted avg       0.74      0.74      0.74      8000\n",
            "\n",
            "LR\n",
            "              precision    recall  f1-score   support\n",
            "\n",
            "    economie       0.68      0.63      0.65       788\n",
            "  enviro_cat       0.77      0.59      0.66       378\n",
            "     justice       0.75      0.59      0.66       591\n",
            "       polit       0.74      0.89      0.81      1915\n",
            "    sci_cult       0.74      0.59      0.65       505\n",
            "      sports       0.99      0.99      0.99      3823\n",
            "\n",
            "    accuracy                           0.86      8000\n",
            "   macro avg       0.78      0.71      0.74      8000\n",
            "weighted avg       0.86      0.86      0.85      8000\n",
            "\n",
            "KNN\n",
            "              precision    recall  f1-score   support\n",
            "\n",
            "    economie       0.30      0.36      0.33       788\n",
            "  enviro_cat       0.33      0.29      0.31       378\n",
            "     justice       0.50      0.39      0.44       591\n",
            "       polit       0.53      0.66      0.59      1915\n",
            "    sci_cult       0.23      0.13      0.16       505\n",
            "      sports       0.97      0.91      0.94      3823\n",
            "\n",
            "    accuracy                           0.68      8000\n",
            "   macro avg       0.48      0.46      0.46      8000\n",
            "weighted avg       0.69      0.68      0.68      8000\n",
            "\n",
            "Random forest\n",
            "              precision    recall  f1-score   support\n",
            "\n",
            "    economie       0.64      0.47      0.54       788\n",
            "  enviro_cat       0.73      0.35      0.48       378\n",
            "     justice       0.69      0.49      0.57       591\n",
            "       polit       0.64      0.88      0.74      1915\n",
            "    sci_cult       0.70      0.42      0.53       505\n",
            "      sports       0.97      0.99      0.98      3823\n",
            "\n",
            "    accuracy                           0.81      8000\n",
            "   macro avg       0.73      0.60      0.64      8000\n",
            "weighted avg       0.81      0.81      0.80      8000\n",
            "\n"
          ]
        }
      ]
    },
    {
      "cell_type": "markdown",
      "source": [
        "# CNN\n"
      ],
      "metadata": {
        "id": "M3ttJk6jFLvS"
      }
    },
    {
      "cell_type": "markdown",
      "source": [
        "## 1. Chargement des données"
      ],
      "metadata": {
        "id": "Swhtea57IeH-"
      }
    },
    {
      "cell_type": "code",
      "source": [
        "# Liste des classes\n",
        "class_names = sorted(wiki_df.categ.unique().categories.to_list())\n",
        "print(\"Classes :\", class_names)\n",
        "print(\"Nombre d'exemplaires :\", len(wiki_df))"
      ],
      "metadata": {
        "colab": {
          "base_uri": "https://localhost:8080/"
        },
        "id": "5iHsZeCDFNm2",
        "outputId": "29c35120-da6c-4aa0-b4ff-a09443136943"
      },
      "execution_count": null,
      "outputs": [
        {
          "output_type": "stream",
          "name": "stdout",
          "text": [
            "Classes : ['economie', 'enviro_cat', 'justice', 'polit', 'sci_cult', 'sports']\n",
            "Nombre d'exemplaires : 10000\n"
          ]
        }
      ]
    },
    {
      "cell_type": "code",
      "source": [
        "# On associe à chaque classe un identifiant unique\n",
        "class_index = {class_names[i]:i for i in range(len(class_names))}\n",
        "class_index"
      ],
      "metadata": {
        "colab": {
          "base_uri": "https://localhost:8080/"
        },
        "id": "lOfPGvz2Fodi",
        "outputId": "617556de-2fa2-47ee-c643-c4dd2581b2ab"
      },
      "execution_count": null,
      "outputs": [
        {
          "output_type": "execute_result",
          "data": {
            "text/plain": [
              "{'economie': 0,\n",
              " 'enviro_cat': 1,\n",
              " 'justice': 2,\n",
              " 'polit': 3,\n",
              " 'sci_cult': 4,\n",
              " 'sports': 5}"
            ]
          },
          "metadata": {},
          "execution_count": 12
        }
      ]
    },
    {
      "cell_type": "code",
      "source": [
        "#X_train = wiki_df[['title', 'text']]\n",
        "X_train = wiki_df.text\n",
        "# Les noms des classes sont remplacées par leur identifiant (un entier positif)\n",
        "y_train = wiki_df.categ.map(class_index)"
      ],
      "metadata": {
        "id": "xb5ko1n-FrL0"
      },
      "execution_count": null,
      "outputs": []
    },
    {
      "cell_type": "markdown",
      "source": [
        "## 2. Indexation du vocabulaire\n"
      ],
      "metadata": {
        "id": "rSeKZU6kImnZ"
      }
    },
    {
      "cell_type": "code",
      "source": [
        "vectorizer = TextVectorization(max_tokens=8000, output_sequence_length=50)\n",
        "text_ds = tf.data.Dataset.from_tensor_slices(X_train).batch(128)\n",
        "vectorizer.adapt(text_ds)"
      ],
      "metadata": {
        "id": "x16uN24dF8LC"
      },
      "execution_count": null,
      "outputs": []
    },
    {
      "cell_type": "code",
      "source": [
        "voc = vectorizer.get_vocabulary()\n",
        "print(len(voc))\n",
        "voc[:5]"
      ],
      "metadata": {
        "colab": {
          "base_uri": "https://localhost:8080/"
        },
        "id": "0wxGipoXGlBj",
        "outputId": "f1c48eed-65b6-4b77-a007-73ac4ac3dcf8"
      },
      "execution_count": null,
      "outputs": [
        {
          "output_type": "stream",
          "name": "stdout",
          "text": [
            "8000\n"
          ]
        },
        {
          "output_type": "execute_result",
          "data": {
            "text/plain": [
              "['', '[UNK]', 'de', '\\xa0', 'la']"
            ]
          },
          "metadata": {},
          "execution_count": 27
        }
      ]
    },
    {
      "cell_type": "code",
      "source": [
        "word_index = dict(zip(voc, range(len(voc))))"
      ],
      "metadata": {
        "id": "iQicgmzaGshC"
      },
      "execution_count": null,
      "outputs": []
    },
    {
      "cell_type": "code",
      "source": [
        "print(X_train.iloc[0])\n",
        "output = vectorizer([X_train.iloc[0]])\n",
        "for v in output.numpy()[0, :15]:\n",
        "    print(v, vectorizer.get_vocabulary()[v])"
      ],
      "metadata": {
        "colab": {
          "base_uri": "https://localhost:8080/"
        },
        "id": "x04LjspMGuuA",
        "outputId": "ad823976-8381-453e-911b-2f1878b8f1c7"
      },
      "execution_count": null,
      "outputs": [
        {
          "output_type": "stream",
          "name": "stdout",
          "text": [
            "Rugby à XV Informations générales International Championnat de Ligue celtique 2021 - 2022   : les résultats de la cinquième journée \n",
            " Championnat d' Angleterre du Premiership de rugby 2021 - 2022   : les résultats de la sixième journée \n",
            " Championnat de France de rugby 2021 - 2022   : les résultats de la huitième journée \n",
            " Championnat de France de rugby Pro D2 2021 - 2022   : les résultats de la huitième journée \n",
            " Championnat de Ligue celtique 2021 - 2022   : les résultats de la quatrième journée Top 14 Championnat de France de rugby 2021 - 2022   : les résultats de la huitième journée \n",
            " Championnat de France de rugby 2021 - 2022   : les résultats de la septième journée \n",
            " Championnat de France de rugby 2021 - 2022   : les résultats de la sixième journée \n",
            " Championnat de France de rugby 2021 - 2022   : les résultats de la cinquième journée \n",
            " Championnat de France de rugby 2021 - 2022   : les résultats de la quatrième journée Pro D2 Championnat de France de rugby Pro D2 2021 - 2022   : les résultats de la huitième journée \n",
            " Championnat de France de rugby Pro D2 2021 - 2022   : les résultats de la septième journée \n",
            " Championnat de France de rugby Pro D2 2021 - 2022   : les résultats de la sixième journée \n",
            " Championnat de France de rugby Pro D2 2021 - 2022   : les résultats de la cinquième journée \n",
            " Championnat de France de rugby Pro D2 2021 - 2022   : les résultats de la quatrième journée Premiership Championnat d' Angleterre du Premiership de rugby 2021 - 2022   : les résultats de la sixième journée \n",
            " Championnat d' Angleterre du Premiership de rugby 2021 - 2022   : les résultats de la cinquième journée \n",
            " Championnat d' Angleterre du Premiership de rugby 2021 - 2022   : les résultats de la quatrième journée \n",
            " Championnat d' Angleterre du Premiership de rugby 2021 - 2022   : les résultats de la troisième journée \n",
            " Championnat d' Angleterre du Premiership de rugby 2021 - 2022   : les résultats de la deuxième journée Ligue celtique Championnat de Ligue celtique 2021 - 2022   : les résultats de la cinquième journée \n",
            " Championnat de Ligue celtique 2021 - 2022   : les résultats de la quatrième journée \n",
            " Championnat de Ligue celtique 2021 - 2022   : les résultats de la troisième journée \n",
            " Championnat de Ligue celtique 2021 - 2022   : les résultats de la deuxième journée \n",
            " Championnat de Ligue celtique 2021 - 2022   : les résultats de la première journée Super Rugby Championnat du Super Rugby 2020   : les résultats de la septième journée \n",
            " Championnat du Super Rugby 2020   : les résultats de la sixième journée \n",
            " Championnat du Super Rugby 2020   : les résultats de la cinquième journée \n",
            " Championnat du Super Rugby 2020   : les résultats de la quatrième journée \n",
            " Championnat du Super Rugby 2020   : les résultats de la troisième journée Coupe du monde Coupe du monde de rugby 2019   : l' Afrique du Sud enlève la coupe \n",
            " Coupe du monde de rugby 2019   : la Nouvelle - Zélande s' adjuge la troisième place \n",
            " Coupe du monde de rugby 2019   : l' Afrique du Sud en finale \n",
            " Coupe du monde de rugby 2019   : l' Angleterre renverse la Nouvelle - Zélande \n",
            " Coupe du monde de rugby 2019   : les résultats des quarts de finale ( II ) Articles sur Wikipédia Rugby à XV 10 septembre 2017 . – Le Tournoi des Quatre Nations a disputé sa troisième journée . Résultats[modifier | modifier le wikicode ] 10 septembre 2017 Nouvelle - Zélande 39[1 ]   –   22 Argentine Yarrow Stadium Arbitre   : M. Angus Gardner 7 ' Milner - Skudder 17 ' Lienert - Brown 36 ' Israel Dagg 49 ' Beauden Barrett 50 ' Fifita 52 '   ( Transf . ) Sopoaga 62 ' McKenzie 64 '   ( Transf . ) Sopoaga 69 ' Sopoaga 77 ' Beauden Barrett 79 '   ( Transf . ) Sopoaga ( rapport ) 13 ' Sánchez 24 ' Boffelli 27 ' Sánchez 40 ' Sánchez 40 + 2 ' Sánchez 42 ' Boffelli 49 ' Sánchez 10 septembre 2017 Australie 23   –   23 Afrique du Sud NIB Stadium Arbitre   : M. Glen Jackson 7 ' Foley 26 ' Beale 28 '   ( Transf . ) Foley 40 ' Foley 46 ' Polota - Nau 47 '   ( Transf . ) Foley 69 ' Polota - Nau ( rapport ) 3 ' Jantjies 24 ' Kriel 26 '   ( Transf . ) Jantjies 53 ' Jantjies 58 ' Marx 59 '   ( Transf . ) Jantjies 67 ' Jantjies Classement[modifier | modifier le wikicode ] Rang \n",
            " Pays \n",
            " Pts \n",
            " J \n",
            " G \n",
            " N \n",
            " P \n",
            " BO \n",
            " BD \n",
            " pp \n",
            " pc \n",
            " p± \n",
            " ep \n",
            " ec \n",
            " e± 1 . Nouvelle - Zélande \n",
            " 14 \n",
            " 3 \n",
            " 3 \n",
            " 0 \n",
            " 0 \n",
            " 2 \n",
            " 0 \n",
            " 128 \n",
            " 85 \n",
            " 43 \n",
            " 18 \n",
            " 11 \n",
            " 7 2 . Afrique du Sud \n",
            " 11 \n",
            " 3 \n",
            " 2 \n",
            " 1 \n",
            " 0 \n",
            " 1 \n",
            " 0 \n",
            " 101 \n",
            " 61 \n",
            " 40 \n",
            " 11 \n",
            " 6 \n",
            " 5 3 . Australie \n",
            " 3 \n",
            " 3 \n",
            " 0 \n",
            " 1 \n",
            " 2 \n",
            " 0 \n",
            " 1 \n",
            " 86 \n",
            " 112 \n",
            " -26 \n",
            " 11 \n",
            " 15 \n",
            " -4 4 . Argentine \n",
            " 0 \n",
            " 3 \n",
            " 0 \n",
            " 0 \n",
            " 3 \n",
            " 0 \n",
            " 0 \n",
            " 60 \n",
            " 117 \n",
            " -57 \n",
            " 6 \n",
            " 14 \n",
            " -8 Précédé par Tournoi des Quatre Nations 2017 Suivi par Deuxième journée Troisième journée Quatrième journée Source[modifier | modifier le wikicode ] \n",
            " ( ( en ) ) – «   Fixtures   » . Four Nations Web ,   10 septembre 2017 . \n",
            " ( ( fr ) ) – «   Calendrier et résultats   » . Midi Olympique – Rugbyrama ,   10 septembre 2017 . \n",
            " ( ( en ) ) – «   Calendrier et résultats   » . The Rugby Championshop ,   10 septembre 2017 . Page «   Rugby à XV   » de Wikinews . L' actualité du rugby à XV . Actualiser la page Jour précédent 10 septembre 2017 Jour suivant Championnat d' Angleterre du Premiership de rugby 2017 - 2018   : les résultats de la deuxième journée \n",
            " Championnat de France de rugby 2017 - 2018   : les résultats de la troisième journée \n",
            " Championnat de France de rugby Pro D2 2017 - 2018   : les résultats de la quatrième journée \n",
            " Tournoi des Quatre Nations 2017   : les résultats de la troisième journée Partager cet article   : \n",
            " Courriel , \n",
            " Digg , \n",
            " Facebook , \n",
            " Identi.ca , \n",
            " Reddit , \n",
            " Linkedin , \n",
            " Twitter , \n",
            " Yahoo ! , \n",
            " Whatsapp ↑ Obtient le point du bonus offensif . Récupérée de «   https://fr.wikinews.org/w/index.php?title=Tournoi_des_Quatre_Nations_2017_:_les_résultats_de_la_troisième_journée&oldid=753906   »\n",
            "11 rugby\n",
            "18 à\n",
            "91 xv\n",
            "290 informations\n",
            "327 générales\n",
            "256 international\n",
            "12 championnat\n",
            "2 de\n",
            "40 ligue\n",
            "62 celtique\n",
            "19 2021\n",
            "22 2022\n",
            "3  \n",
            "5 les\n",
            "10 résultats\n"
          ]
        }
      ]
    },
    {
      "cell_type": "markdown",
      "source": [
        "## 3. Chargement de plongements de mots pré-entraînés\n"
      ],
      "metadata": {
        "id": "-0GmGkRMIqhv"
      }
    },
    {
      "cell_type": "code",
      "source": [
        "!wget -P data https://dl.fbaipublicfiles.com/fasttext/vectors-crawl/cc.fr.300.vec.gz"
      ],
      "metadata": {
        "colab": {
          "base_uri": "https://localhost:8080/"
        },
        "id": "FesxM1AzGzj_",
        "outputId": "c27f763e-aaeb-48eb-8d1c-00742c085196"
      },
      "execution_count": null,
      "outputs": [
        {
          "output_type": "stream",
          "name": "stdout",
          "text": [
            "--2022-05-13 20:28:26--  https://dl.fbaipublicfiles.com/fasttext/vectors-crawl/cc.fr.300.vec.gz\n",
            "Resolving dl.fbaipublicfiles.com (dl.fbaipublicfiles.com)... 104.22.75.142, 104.22.74.142, 172.67.9.4, ...\n",
            "Connecting to dl.fbaipublicfiles.com (dl.fbaipublicfiles.com)|104.22.75.142|:443... connected.\n",
            "HTTP request sent, awaiting response... 200 OK\n",
            "Length: 1287757366 (1.2G) [binary/octet-stream]\n",
            "Saving to: ‘data/cc.fr.300.vec.gz’\n",
            "\n",
            "cc.fr.300.vec.gz    100%[===================>]   1.20G  38.8MB/s    in 32s     \n",
            "\n",
            "2022-05-13 20:28:59 (38.4 MB/s) - ‘data/cc.fr.300.vec.gz’ saved [1287757366/1287757366]\n",
            "\n"
          ]
        }
      ]
    },
    {
      "cell_type": "code",
      "source": [
        "!gzip -d /content/data/cc.fr.300.vec.gz"
      ],
      "metadata": {
        "id": "F4ojCFcDHTbI"
      },
      "execution_count": null,
      "outputs": []
    },
    {
      "cell_type": "code",
      "source": [
        "embeddings_index = {}\n",
        "with open('/content/data/cc.fr.300.vec', 'r', encoding='utf8') as f:\n",
        "    for line in f:\n",
        "        word, coefs = line.split(maxsplit=1)\n",
        "        coefs = np.fromstring(coefs, \"f\", sep=\" \")\n",
        "        embeddings_index[word] = coefs\n",
        "\n",
        "print(f'{len(embeddings_index)} vecteurs de mots ont été lus')"
      ],
      "metadata": {
        "colab": {
          "base_uri": "https://localhost:8080/"
        },
        "id": "erQBUAuEG8ZE",
        "outputId": "6cc72802-a393-4f20-9050-67500562cbaf"
      },
      "execution_count": null,
      "outputs": [
        {
          "output_type": "stream",
          "name": "stdout",
          "text": [
            "2000000 vecteurs de mots ont été lus\n"
          ]
        }
      ]
    },
    {
      "cell_type": "code",
      "source": [
        "num_tokens = len(voc)\n",
        "embedding_dim = 300\n",
        "hits = 0\n",
        "misses = 0\n",
        "\n",
        "# Préparation de la matrice\n",
        "# Les mots qui ne se trouvent pas dans les plongements pré-entraînés seront\n",
        "# représentés par des vecteurs dont toutes les composantes sont égales à 0,\n",
        "# y compris la représentation utilisée pour compléter les documents courts et\n",
        "# celle utilisée pour les mots inconnus [UNK]\n",
        "embedding_matrix = np.zeros((num_tokens, embedding_dim))\n",
        "for word, i in word_index.items():\n",
        "    embedding_vector = embeddings_index.get(word)\n",
        "    if embedding_vector is not None:\n",
        "        embedding_matrix[i] = embedding_vector\n",
        "        hits += 1\n",
        "    else:\n",
        "        misses += 1\n",
        "print(f'{hits} mots ont été trouvés dans les plongements pré-entraînés')\n",
        "print(f'{misses} sont absents')"
      ],
      "metadata": {
        "colab": {
          "base_uri": "https://localhost:8080/"
        },
        "id": "KmJeFw_1H6rR",
        "outputId": "88adcd60-dcbd-47eb-e95c-464fac0ee30a"
      },
      "execution_count": null,
      "outputs": [
        {
          "output_type": "stream",
          "name": "stdout",
          "text": [
            "7551 mots ont été trouvés dans les plongements pré-entraînés\n",
            "449 sont absents\n"
          ]
        }
      ]
    },
    {
      "cell_type": "markdown",
      "source": [
        "## 4. Construction et entraînement du modèle\n"
      ],
      "metadata": {
        "id": "suecPorAIurI"
      }
    },
    {
      "cell_type": "code",
      "source": [
        "# Listes utilisées pour sauvegarder les résultats obtenus à chaque pli\n",
        "acc_per_fold = []\n",
        "loss_per_fold = []\n",
        "histories = []\n",
        "folds = 5\n",
        "stratkfold = model_selection.StratifiedKFold(n_splits=folds, shuffle=True,\n",
        "                                             random_state=12)\n",
        "fold_no = 1\n",
        "for train, test in stratkfold.split(X_train, y_train):\n",
        "  # Création du modèle\n",
        "  int_sequences_input = keras.Input(shape=(None,), dtype=\"int64\")\n",
        "  embedding_layer = Embedding(num_tokens, embedding_dim, trainable=True,\n",
        "      embeddings_initializer=keras.initializers.Constant(embedding_matrix),\n",
        "  )\n",
        "  embedded_sequences = embedding_layer(int_sequences_input)\n",
        "  x = layers.Conv1D(64, 5, activation=\"relu\")(embedded_sequences)\n",
        "  x = layers.MaxPooling1D(5)(x)\n",
        "  x = layers.Conv1D(64, 5, activation=\"relu\")(x)\n",
        "  x = layers.GlobalMaxPooling1D()(x)\n",
        "\n",
        "  x = layers.Dense(64, activation=\"relu\")(x)\n",
        "  x = layers.Dropout(0.5)(x)\n",
        "  preds = layers.Dense(len(class_names), activation=\"softmax\")(x)\n",
        "  model = keras.Model(int_sequences_input, preds)\n",
        "  model.summary()\n",
        "\n",
        "\n",
        "  print('------------------------------------------------------------------------')\n",
        "  print(f'Entraînement pour le pli {fold_no} ...')\n",
        "  fold_x_train = vectorizer(X_train.iloc[train].to_numpy()).numpy()\n",
        "  fold_x_val = vectorizer(X_train.iloc[test].to_numpy()).numpy()\n",
        "  fold_y_train = y_train.iloc[train].to_numpy()\n",
        "  fold_y_val = y_train.iloc[test].to_numpy()\n",
        "\n",
        "  # Compilation du modèle : permet de préciser la fonction de perte et l'optimiseur\n",
        "  # loss=sparse_categorical_crossentropy : entropie croisée, dans le cas où les\n",
        "  #  classes cibles sont indiquées sous forme d'entiers. Il s'agira de minimiser\n",
        "  #  la perte pendant l'apprentissage\n",
        "  # optimizer=rmsprop : l'optimiseur détermine la manière doit les poids seront\n",
        "  #  mis à jour pendant l'apprentissage\n",
        "  model.compile(\n",
        "    loss=\"sparse_categorical_crossentropy\", optimizer=\"rmsprop\", metrics=[\"acc\"]\n",
        "  )\n",
        "  # Entraînement\n",
        "  history = model.fit(fold_x_train, fold_y_train, batch_size=128, epochs=10,\n",
        "            validation_data=(fold_x_val, fold_y_val))\n",
        "  histories.append(history)\n",
        "  # Evaluation sur les données de validation\n",
        "  scores = model.evaluate(fold_x_val, fold_y_val, verbose=0)\n",
        "  print(f'Scores pour le pli {fold_no}: {model.metrics_names[0]} = {scores[0]:.2f};',\n",
        "        f'{model.metrics_names[1]} = {scores[1]*100:.2f}%')\n",
        "  acc_per_fold.append(scores[1] * 100)\n",
        "  loss_per_fold.append(scores[0])\n",
        "  fold_no = fold_no + 1\n",
        "\n",
        "# Affichage des scores moyens par pli\n",
        "print('---------------------------------------------------------------------')\n",
        "print('Scores par pli')\n",
        "for i in range(0, len(acc_per_fold)):\n",
        "  print('---------------------------------------------------------------------')\n",
        "  print(f'> Pli {i+1} - Loss: {loss_per_fold[i]:.2f}',\n",
        "        f'- Accuracy: {acc_per_fold[i]:.2f}%')\n",
        "print('---------------------------------------------------------------------')\n",
        "print('Scores moyens pour tous les plis :')\n",
        "print(f'> Accuracy: {np.mean(acc_per_fold):.2f}',\n",
        "      f'(+- {np.std(acc_per_fold):.2f})')\n",
        "print(f'> Loss: {np.mean(loss_per_fold):.2f}')\n",
        "print('---------------------------------------------------------------------')"
      ],
      "metadata": {
        "colab": {
          "base_uri": "https://localhost:8080/"
        },
        "id": "zSCTVMj9H_1h",
        "outputId": "b8a7158b-e91c-4aab-fbc5-c4b8fad0051a"
      },
      "execution_count": null,
      "outputs": [
        {
          "output_type": "stream",
          "name": "stdout",
          "text": [
            "Model: \"model\"\n",
            "_________________________________________________________________\n",
            " Layer (type)                Output Shape              Param #   \n",
            "=================================================================\n",
            " input_1 (InputLayer)        [(None, None)]            0         \n",
            "                                                                 \n",
            " embedding (Embedding)       (None, None, 300)         2400000   \n",
            "                                                                 \n",
            " conv1d (Conv1D)             (None, None, 64)          96064     \n",
            "                                                                 \n",
            " max_pooling1d (MaxPooling1D  (None, None, 64)         0         \n",
            " )                                                               \n",
            "                                                                 \n",
            " conv1d_1 (Conv1D)           (None, None, 64)          20544     \n",
            "                                                                 \n",
            " global_max_pooling1d (Globa  (None, 64)               0         \n",
            " lMaxPooling1D)                                                  \n",
            "                                                                 \n",
            " dense (Dense)               (None, 64)                4160      \n",
            "                                                                 \n",
            " dropout (Dropout)           (None, 64)                0         \n",
            "                                                                 \n",
            " dense_1 (Dense)             (None, 6)                 390       \n",
            "                                                                 \n",
            "=================================================================\n",
            "Total params: 2,521,158\n",
            "Trainable params: 2,521,158\n",
            "Non-trainable params: 0\n",
            "_________________________________________________________________\n",
            "------------------------------------------------------------------------\n",
            "Entraînement pour le pli 1 ...\n",
            "Epoch 1/10\n",
            "63/63 [==============================] - 12s 162ms/step - loss: 1.0391 - acc: 0.6316 - val_loss: 0.7823 - val_acc: 0.7120\n",
            "Epoch 2/10\n",
            "63/63 [==============================] - 10s 159ms/step - loss: 0.7473 - acc: 0.7286 - val_loss: 0.6526 - val_acc: 0.7500\n",
            "Epoch 3/10\n",
            "63/63 [==============================] - 10s 161ms/step - loss: 0.6164 - acc: 0.7845 - val_loss: 0.5889 - val_acc: 0.7940\n",
            "Epoch 4/10\n",
            "63/63 [==============================] - 10s 162ms/step - loss: 0.5010 - acc: 0.8340 - val_loss: 0.5624 - val_acc: 0.8005\n",
            "Epoch 5/10\n",
            "63/63 [==============================] - 10s 161ms/step - loss: 0.4162 - acc: 0.8681 - val_loss: 0.5436 - val_acc: 0.8080\n",
            "Epoch 6/10\n",
            "63/63 [==============================] - 10s 160ms/step - loss: 0.3466 - acc: 0.8945 - val_loss: 0.5742 - val_acc: 0.8060\n",
            "Epoch 7/10\n",
            "63/63 [==============================] - 14s 221ms/step - loss: 0.2980 - acc: 0.9090 - val_loss: 0.6151 - val_acc: 0.8035\n",
            "Epoch 8/10\n",
            "63/63 [==============================] - 14s 222ms/step - loss: 0.2581 - acc: 0.9222 - val_loss: 0.6021 - val_acc: 0.8090\n",
            "Epoch 9/10\n",
            "63/63 [==============================] - 10s 162ms/step - loss: 0.2281 - acc: 0.9276 - val_loss: 0.6576 - val_acc: 0.7995\n",
            "Epoch 10/10\n",
            "63/63 [==============================] - 15s 237ms/step - loss: 0.2045 - acc: 0.9336 - val_loss: 0.6642 - val_acc: 0.8080\n",
            "Scores pour le pli 1: loss = 0.66; acc = 80.80%\n",
            "Model: \"model_1\"\n",
            "_________________________________________________________________\n",
            " Layer (type)                Output Shape              Param #   \n",
            "=================================================================\n",
            " input_2 (InputLayer)        [(None, None)]            0         \n",
            "                                                                 \n",
            " embedding_1 (Embedding)     (None, None, 300)         2400000   \n",
            "                                                                 \n",
            " conv1d_2 (Conv1D)           (None, None, 64)          96064     \n",
            "                                                                 \n",
            " max_pooling1d_1 (MaxPooling  (None, None, 64)         0         \n",
            " 1D)                                                             \n",
            "                                                                 \n",
            " conv1d_3 (Conv1D)           (None, None, 64)          20544     \n",
            "                                                                 \n",
            " global_max_pooling1d_1 (Glo  (None, 64)               0         \n",
            " balMaxPooling1D)                                                \n",
            "                                                                 \n",
            " dense_2 (Dense)             (None, 64)                4160      \n",
            "                                                                 \n",
            " dropout_1 (Dropout)         (None, 64)                0         \n",
            "                                                                 \n",
            " dense_3 (Dense)             (None, 6)                 390       \n",
            "                                                                 \n",
            "=================================================================\n",
            "Total params: 2,521,158\n",
            "Trainable params: 2,521,158\n",
            "Non-trainable params: 0\n",
            "_________________________________________________________________\n",
            "------------------------------------------------------------------------\n",
            "Entraînement pour le pli 2 ...\n",
            "Epoch 1/10\n",
            "63/63 [==============================] - 12s 168ms/step - loss: 1.0483 - acc: 0.6276 - val_loss: 0.8063 - val_acc: 0.7070\n",
            "Epoch 2/10\n",
            "63/63 [==============================] - 10s 165ms/step - loss: 0.7497 - acc: 0.7281 - val_loss: 0.7497 - val_acc: 0.7215\n",
            "Epoch 3/10\n",
            "63/63 [==============================] - 10s 164ms/step - loss: 0.6291 - acc: 0.7734 - val_loss: 0.6412 - val_acc: 0.7760\n",
            "Epoch 4/10\n",
            "63/63 [==============================] - 10s 163ms/step - loss: 0.5412 - acc: 0.8083 - val_loss: 0.6232 - val_acc: 0.7890\n",
            "Epoch 5/10\n",
            "63/63 [==============================] - 10s 161ms/step - loss: 0.4545 - acc: 0.8440 - val_loss: 0.6256 - val_acc: 0.7890\n",
            "Epoch 6/10\n",
            "63/63 [==============================] - 10s 159ms/step - loss: 0.3828 - acc: 0.8729 - val_loss: 0.6086 - val_acc: 0.8095\n",
            "Epoch 7/10\n",
            "63/63 [==============================] - 10s 163ms/step - loss: 0.3280 - acc: 0.8979 - val_loss: 0.6412 - val_acc: 0.8015\n",
            "Epoch 8/10\n",
            "63/63 [==============================] - 10s 162ms/step - loss: 0.2832 - acc: 0.9101 - val_loss: 0.6768 - val_acc: 0.7860\n",
            "Epoch 9/10\n",
            "63/63 [==============================] - 10s 160ms/step - loss: 0.2416 - acc: 0.9234 - val_loss: 0.7161 - val_acc: 0.8080\n",
            "Epoch 10/10\n",
            "63/63 [==============================] - 10s 159ms/step - loss: 0.2137 - acc: 0.9300 - val_loss: 0.7050 - val_acc: 0.8035\n",
            "Scores pour le pli 2: loss = 0.70; acc = 80.35%\n",
            "Model: \"model_2\"\n",
            "_________________________________________________________________\n",
            " Layer (type)                Output Shape              Param #   \n",
            "=================================================================\n",
            " input_3 (InputLayer)        [(None, None)]            0         \n",
            "                                                                 \n",
            " embedding_2 (Embedding)     (None, None, 300)         2400000   \n",
            "                                                                 \n",
            " conv1d_4 (Conv1D)           (None, None, 64)          96064     \n",
            "                                                                 \n",
            " max_pooling1d_2 (MaxPooling  (None, None, 64)         0         \n",
            " 1D)                                                             \n",
            "                                                                 \n",
            " conv1d_5 (Conv1D)           (None, None, 64)          20544     \n",
            "                                                                 \n",
            " global_max_pooling1d_2 (Glo  (None, 64)               0         \n",
            " balMaxPooling1D)                                                \n",
            "                                                                 \n",
            " dense_4 (Dense)             (None, 64)                4160      \n",
            "                                                                 \n",
            " dropout_2 (Dropout)         (None, 64)                0         \n",
            "                                                                 \n",
            " dense_5 (Dense)             (None, 6)                 390       \n",
            "                                                                 \n",
            "=================================================================\n",
            "Total params: 2,521,158\n",
            "Trainable params: 2,521,158\n",
            "Non-trainable params: 0\n",
            "_________________________________________________________________\n",
            "------------------------------------------------------------------------\n",
            "Entraînement pour le pli 3 ...\n",
            "Epoch 1/10\n",
            "63/63 [==============================] - 14s 210ms/step - loss: 1.0287 - acc: 0.6414 - val_loss: 0.8487 - val_acc: 0.7020\n",
            "Epoch 2/10\n",
            "63/63 [==============================] - 10s 160ms/step - loss: 0.7458 - acc: 0.7315 - val_loss: 0.7010 - val_acc: 0.7540\n",
            "Epoch 3/10\n",
            "63/63 [==============================] - 10s 161ms/step - loss: 0.6058 - acc: 0.7811 - val_loss: 0.6088 - val_acc: 0.7800\n",
            "Epoch 4/10\n",
            "63/63 [==============================] - 10s 163ms/step - loss: 0.4873 - acc: 0.8370 - val_loss: 0.6462 - val_acc: 0.7835\n",
            "Epoch 5/10\n",
            "63/63 [==============================] - 10s 164ms/step - loss: 0.3988 - acc: 0.8658 - val_loss: 0.6573 - val_acc: 0.7660\n",
            "Epoch 6/10\n",
            "63/63 [==============================] - 10s 163ms/step - loss: 0.3339 - acc: 0.8903 - val_loss: 0.6853 - val_acc: 0.7630\n",
            "Epoch 7/10\n",
            "63/63 [==============================] - 10s 160ms/step - loss: 0.2904 - acc: 0.9070 - val_loss: 0.6336 - val_acc: 0.7980\n",
            "Epoch 8/10\n",
            "63/63 [==============================] - 10s 161ms/step - loss: 0.2522 - acc: 0.9219 - val_loss: 0.6714 - val_acc: 0.8100\n",
            "Epoch 9/10\n",
            "63/63 [==============================] - 10s 161ms/step - loss: 0.2324 - acc: 0.9283 - val_loss: 0.8216 - val_acc: 0.7860\n",
            "Epoch 10/10\n",
            "63/63 [==============================] - 10s 161ms/step - loss: 0.2140 - acc: 0.9319 - val_loss: 0.6743 - val_acc: 0.8080\n",
            "Scores pour le pli 3: loss = 0.67; acc = 80.80%\n",
            "Model: \"model_3\"\n",
            "_________________________________________________________________\n",
            " Layer (type)                Output Shape              Param #   \n",
            "=================================================================\n",
            " input_4 (InputLayer)        [(None, None)]            0         \n",
            "                                                                 \n",
            " embedding_3 (Embedding)     (None, None, 300)         2400000   \n",
            "                                                                 \n",
            " conv1d_6 (Conv1D)           (None, None, 64)          96064     \n",
            "                                                                 \n",
            " max_pooling1d_3 (MaxPooling  (None, None, 64)         0         \n",
            " 1D)                                                             \n",
            "                                                                 \n",
            " conv1d_7 (Conv1D)           (None, None, 64)          20544     \n",
            "                                                                 \n",
            " global_max_pooling1d_3 (Glo  (None, 64)               0         \n",
            " balMaxPooling1D)                                                \n",
            "                                                                 \n",
            " dense_6 (Dense)             (None, 64)                4160      \n",
            "                                                                 \n",
            " dropout_3 (Dropout)         (None, 64)                0         \n",
            "                                                                 \n",
            " dense_7 (Dense)             (None, 6)                 390       \n",
            "                                                                 \n",
            "=================================================================\n",
            "Total params: 2,521,158\n",
            "Trainable params: 2,521,158\n",
            "Non-trainable params: 0\n",
            "_________________________________________________________________\n",
            "------------------------------------------------------------------------\n",
            "Entraînement pour le pli 4 ...\n",
            "Epoch 1/10\n",
            "63/63 [==============================] - 11s 162ms/step - loss: 1.0351 - acc: 0.6319 - val_loss: 0.7864 - val_acc: 0.7125\n",
            "Epoch 2/10\n",
            "63/63 [==============================] - 10s 160ms/step - loss: 0.7382 - acc: 0.7296 - val_loss: 0.7400 - val_acc: 0.7400\n",
            "Epoch 3/10\n",
            "63/63 [==============================] - 10s 161ms/step - loss: 0.6020 - acc: 0.7822 - val_loss: 0.6233 - val_acc: 0.7830\n",
            "Epoch 4/10\n",
            "63/63 [==============================] - 10s 162ms/step - loss: 0.4809 - acc: 0.8344 - val_loss: 0.5864 - val_acc: 0.7890\n",
            "Epoch 5/10\n",
            "63/63 [==============================] - 10s 160ms/step - loss: 0.4007 - acc: 0.8664 - val_loss: 0.6102 - val_acc: 0.7835\n",
            "Epoch 6/10\n",
            "63/63 [==============================] - 10s 160ms/step - loss: 0.3413 - acc: 0.8884 - val_loss: 0.6113 - val_acc: 0.7995\n",
            "Epoch 7/10\n",
            "63/63 [==============================] - 10s 160ms/step - loss: 0.2804 - acc: 0.9110 - val_loss: 0.6353 - val_acc: 0.8060\n",
            "Epoch 8/10\n",
            "63/63 [==============================] - 10s 161ms/step - loss: 0.2457 - acc: 0.9214 - val_loss: 0.6772 - val_acc: 0.8055\n",
            "Epoch 9/10\n",
            "63/63 [==============================] - 10s 161ms/step - loss: 0.2211 - acc: 0.9284 - val_loss: 0.6909 - val_acc: 0.8050\n",
            "Epoch 10/10\n",
            "63/63 [==============================] - 10s 161ms/step - loss: 0.2008 - acc: 0.9349 - val_loss: 0.7305 - val_acc: 0.8050\n",
            "Scores pour le pli 4: loss = 0.73; acc = 80.50%\n",
            "Model: \"model_4\"\n",
            "_________________________________________________________________\n",
            " Layer (type)                Output Shape              Param #   \n",
            "=================================================================\n",
            " input_5 (InputLayer)        [(None, None)]            0         \n",
            "                                                                 \n",
            " embedding_4 (Embedding)     (None, None, 300)         2400000   \n",
            "                                                                 \n",
            " conv1d_8 (Conv1D)           (None, None, 64)          96064     \n",
            "                                                                 \n",
            " max_pooling1d_4 (MaxPooling  (None, None, 64)         0         \n",
            " 1D)                                                             \n",
            "                                                                 \n",
            " conv1d_9 (Conv1D)           (None, None, 64)          20544     \n",
            "                                                                 \n",
            " global_max_pooling1d_4 (Glo  (None, 64)               0         \n",
            " balMaxPooling1D)                                                \n",
            "                                                                 \n",
            " dense_8 (Dense)             (None, 64)                4160      \n",
            "                                                                 \n",
            " dropout_4 (Dropout)         (None, 64)                0         \n",
            "                                                                 \n",
            " dense_9 (Dense)             (None, 6)                 390       \n",
            "                                                                 \n",
            "=================================================================\n",
            "Total params: 2,521,158\n",
            "Trainable params: 2,521,158\n",
            "Non-trainable params: 0\n",
            "_________________________________________________________________\n",
            "------------------------------------------------------------------------\n",
            "Entraînement pour le pli 5 ...\n",
            "Epoch 1/10\n",
            "63/63 [==============================] - 11s 161ms/step - loss: 1.0437 - acc: 0.6352 - val_loss: 0.8729 - val_acc: 0.6960\n",
            "Epoch 2/10\n",
            "63/63 [==============================] - 10s 157ms/step - loss: 0.7622 - acc: 0.7209 - val_loss: 0.6690 - val_acc: 0.7510\n",
            "Epoch 3/10\n",
            "63/63 [==============================] - 10s 157ms/step - loss: 0.6244 - acc: 0.7728 - val_loss: 0.6621 - val_acc: 0.7665\n",
            "Epoch 4/10\n",
            "63/63 [==============================] - 10s 159ms/step - loss: 0.5162 - acc: 0.8204 - val_loss: 0.5757 - val_acc: 0.8075\n",
            "Epoch 5/10\n",
            "63/63 [==============================] - 10s 159ms/step - loss: 0.4243 - acc: 0.8612 - val_loss: 0.5564 - val_acc: 0.8085\n",
            "Epoch 6/10\n",
            "63/63 [==============================] - 10s 162ms/step - loss: 0.3491 - acc: 0.8921 - val_loss: 0.5480 - val_acc: 0.8220\n",
            "Epoch 7/10\n",
            "63/63 [==============================] - 10s 160ms/step - loss: 0.2966 - acc: 0.9095 - val_loss: 0.5710 - val_acc: 0.8170\n",
            "Epoch 8/10\n",
            "63/63 [==============================] - 10s 157ms/step - loss: 0.2504 - acc: 0.9231 - val_loss: 0.5707 - val_acc: 0.8185\n",
            "Epoch 9/10\n",
            "63/63 [==============================] - 10s 159ms/step - loss: 0.2320 - acc: 0.9284 - val_loss: 0.6225 - val_acc: 0.8205\n",
            "Epoch 10/10\n",
            "63/63 [==============================] - 10s 158ms/step - loss: 0.2110 - acc: 0.9334 - val_loss: 0.6377 - val_acc: 0.8020\n",
            "Scores pour le pli 5: loss = 0.64; acc = 80.20%\n",
            "---------------------------------------------------------------------\n",
            "Scores par pli\n",
            "---------------------------------------------------------------------\n",
            "> Pli 1 - Loss: 0.66 - Accuracy: 80.80%\n",
            "---------------------------------------------------------------------\n",
            "> Pli 2 - Loss: 0.70 - Accuracy: 80.35%\n",
            "---------------------------------------------------------------------\n",
            "> Pli 3 - Loss: 0.67 - Accuracy: 80.80%\n",
            "---------------------------------------------------------------------\n",
            "> Pli 4 - Loss: 0.73 - Accuracy: 80.50%\n",
            "---------------------------------------------------------------------\n",
            "> Pli 5 - Loss: 0.64 - Accuracy: 80.20%\n",
            "---------------------------------------------------------------------\n",
            "Scores moyens pour tous les plis :\n",
            "> Accuracy: 80.53 (+- 0.24)\n",
            "> Loss: 0.68\n",
            "---------------------------------------------------------------------\n"
          ]
        }
      ]
    },
    {
      "cell_type": "code",
      "source": [
        "accuracy_data = []\n",
        "loss_data = []\n",
        "for i, h in enumerate(histories):\n",
        "  acc = h.history['acc']\n",
        "  val_acc = h.history['val_acc']\n",
        "  loss = h.history['loss']\n",
        "  val_loss = h.history['val_loss']\n",
        "  for j in range(len(acc)):\n",
        "    accuracy_data.append([i+1, j+1, acc[j], 'Entraînement'])\n",
        "    accuracy_data.append([i+1, j+1, val_acc[j], 'Validation'])\n",
        "    loss_data.append([i+1, j+1, loss[j], 'Entraînement'])\n",
        "    loss_data.append([i+1, j+1, val_loss[j], 'Validation'])\n",
        "\n",
        "acc_df = pd.DataFrame(accuracy_data,\n",
        "                      columns=['Pli', 'Epoch', 'Accuracy', 'Données'])\n",
        "sns.relplot(data=acc_df, x='Epoch', y='Accuracy', hue='Pli', style='Données',\n",
        "            kind='line')\n",
        "\n",
        "loss_df = pd.DataFrame(loss_data, columns=['Pli', 'Epoch', 'Perte', 'Données'])\n",
        "sns.relplot(data=loss_df, x='Epoch', y='Perte', hue='Pli', style='Données',\n",
        "            kind='line')"
      ],
      "metadata": {
        "colab": {
          "base_uri": "https://localhost:8080/",
          "height": 730
        },
        "id": "NvPzQgIeIC9N",
        "outputId": "2c5ff402-c197-4d2c-af8f-753806909891"
      },
      "execution_count": null,
      "outputs": [
        {
          "output_type": "execute_result",
          "data": {
            "text/plain": [
              "<seaborn.axisgrid.FacetGrid at 0x7fa848289110>"
            ]
          },
          "metadata": {},
          "execution_count": 40
        },
        {
          "output_type": "display_data",
          "data": {
            "text/plain": [
              "<Figure size 481.85x360 with 1 Axes>"
            ],
            "image/png": "[encoded data removed]"
          },
          "metadata": {}
        },
        {
          "output_type": "display_data",
          "data": {
            "text/plain": [
              "<Figure size 481.85x360 with 1 Axes>"
            ],
            "image/png": "[encoded data removed]"
          },
          "metadata": {}
        }
      ]
    }
  ]
}